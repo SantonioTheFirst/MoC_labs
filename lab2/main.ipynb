{
  "nbformat": 4,
  "nbformat_minor": 0,
  "metadata": {
    "colab": {
      "name": "MoC_lab2.ipynb",
      "provenance": [],
      "collapsed_sections": [],
      "authorship_tag": "ABX9TyNiSJ+/mHjdxShBro8j4wep",
      "include_colab_link": true
    },
    "kernelspec": {
      "display_name": "Python 3",
      "name": "python3"
    },
    "language_info": {
      "name": "python"
    }
  },
  "cells": [
    {
      "cell_type": "markdown",
      "metadata": {
        "id": "view-in-github",
        "colab_type": "text"
      },
      "source": [
        "<a href=\"https://colab.research.google.com/github/SantonioTheFirst/MoC_labs/blob/main/lab2/main.ipynb\" target=\"_parent\"><img src=\"https://colab.research.google.com/assets/colab-badge.svg\" alt=\"Open In Colab\"/></a>"
      ]
    },
    {
      "cell_type": "code",
      "metadata": {
        "id": "BkQHzSjP3W-0"
      },
      "source": [
        "import re\n",
        "import numpy as np\n",
        "from collections import Counter, defaultdict\n",
        "import random\n",
        "import pandas as pd"
      ],
      "execution_count": 1,
      "outputs": []
    },
    {
      "cell_type": "code",
      "metadata": {
        "id": "wuI9j0jY32B7"
      },
      "source": [
        "letters = {'а': 0, 'б': 1, 'в': 2, 'г': 3, 'д': 4, 'е': 5, 'є': 6, 'ж': 7, 'з': 8,\n",
        "           'и': 9, 'і': 10, 'ї': 11, 'й': 12, 'к': 13, 'л': 14, 'м': 15, 'н': 16,\n",
        "           'о': 17, 'п': 18, 'р': 19, 'с': 20, 'т': 21, 'у': 22, 'ф': 23, 'х': 24,\n",
        "           'ц': 25, 'ч': 26, 'ш': 27, 'щ': 28, 'ь': 29, 'ю': 30, 'я': 31}"
      ],
      "execution_count": 2,
      "outputs": []
    },
    {
      "cell_type": "code",
      "metadata": {
        "id": "IZwP0D6U3fX8"
      },
      "source": [
        "def filter(text):\n",
        "    text = ''.join(re.findall(r'[а-яієїґ]+', text.lower()))\n",
        "    text = text.replace('ы', 'и')\n",
        "    text = text.replace('ґ', 'г')\n",
        "    return text"
      ],
      "execution_count": 3,
      "outputs": []
    },
    {
      "cell_type": "code",
      "metadata": {
        "id": "hFIjzj_m624z"
      },
      "source": [
        "def calc_freq(text, l):\n",
        "    if l == 1:\n",
        "        freq = dict(Counter(text))\n",
        "    # print(freq)\n",
        "    elif l == 2:\n",
        "        all_letters = list(set(text))\n",
        "        # freq = {} #defaultdict(int)\n",
        "        freq = defaultdict(int)\n",
        "        # for i in all_letters:\n",
        "        #     for j in all_letters:\n",
        "        #         bigram = i + j\n",
        "        #         freq[bigram] = text.count(bigram)\n",
        "        #         # print(bigram)\n",
        "        for i in range(len(text) - 1):\n",
        "            freq[text[i : i + 2]] += 1\n",
        "        for i in all_letters:\n",
        "            for j in all_letters:\n",
        "                bigram = i + j\n",
        "                if bigram not in freq:\n",
        "                    freq[bigram] = 0\n",
        "    else:\n",
        "        freq = {}\n",
        "    # result = dict(sorted(freq.items(), key=lambda x: x[1], reverse=True))\n",
        "    # result_t = dict(sorted(t.items(), key=lambda x: x[1], reverse=True))\n",
        "    return freq"
      ],
      "execution_count": 4,
      "outputs": []
    },
    {
      "cell_type": "code",
      "metadata": {
        "id": "Gm3uKW-QvP3s"
      },
      "source": [
        "# берем мин значение и несколько значений больше\n",
        "def get_min_freq(freq, n):\n",
        "    return dict(sorted(freq.items(), key=lambda x: x[1], reverse=True)[-n:])"
      ],
      "execution_count": 5,
      "outputs": []
    },
    {
      "cell_type": "code",
      "metadata": {
        "id": "DEC44bzXjg9b"
      },
      "source": [
        "def get_text_N_L(text, N, L):\n",
        "  result = []\n",
        "  for i in range(N):\n",
        "    idx = np.random.randint(low=0, high=len(text) - L)\n",
        "    result.append(text[idx : idx + L])\n",
        "  return result"
      ],
      "execution_count": 6,
      "outputs": []
    },
    {
      "cell_type": "code",
      "metadata": {
        "id": "l9im66xbyVyO"
      },
      "source": [
        "def criterion_10(freq, sequence, n):\n",
        "    # if l == 1:\n",
        "    #     n = 3\n",
        "    # elif l == 2:\n",
        "    #     n = 100\n",
        "    A_prh = set(get_min_freq(freq, n))\n",
        "    result = False\n",
        "    print(A_prh)\n",
        "    for l_gram in A_prh:\n",
        "        # print(l_gram)\n",
        "        if l_gram in sequence:\n",
        "            # print(l_gram)\n",
        "            result = True\n",
        "            break\n",
        "    return result"
      ],
      "execution_count": 45,
      "outputs": []
    },
    {
      "cell_type": "code",
      "metadata": {
        "id": "cCelckVihno2"
      },
      "source": [
        "def criterion_11(freq, sequence, n, k):\n",
        "    # if l == 1:\n",
        "    #     n = 3\n",
        "    # elif l == 2:\n",
        "    #     n = 150\n",
        "    A_prh = set(get_min_freq(freq, n))\n",
        "    result = False\n",
        "    A_ap = []\n",
        "    for l_gram in A_prh:\n",
        "        # print(l_gram)\n",
        "        if l_gram in sequence:\n",
        "            # print('O')\n",
        "            A_ap.append(l_gram)\n",
        "    A_ap = set(A_ap)\n",
        "    # print(A_prh)\n",
        "    # print(A_ap)\n",
        "    # print(A_prh)\n",
        "    # print(len(A_ap))\n",
        "    if len(A_prh.intersection(A_ap)) >= k:\n",
        "        result = True\n",
        "    return result"
      ],
      "execution_count": 8,
      "outputs": []
    },
    {
      "cell_type": "code",
      "metadata": {
        "id": "6AHmnjtTrgzM"
      },
      "source": [
        "def criterion_12(freq, sequence, n):\n",
        "    A_prh = set(get_min_freq(freq, n))\n",
        "    result = False\n",
        "    seq_freq = {}\n",
        "    for l_gram in A_prh:\n",
        "        seq_freq[l_gram] = sequence.count(l_gram)\n",
        "        if seq_freq[l_gram] > freq[l_gram]:\n",
        "            result = True\n",
        "            break\n",
        "    return result"
      ],
      "execution_count": 9,
      "outputs": []
    },
    {
      "cell_type": "code",
      "metadata": {
        "id": "jS8MgOdZ36Rs"
      },
      "source": [
        "def criterion_13(freq, sequence, n):\n",
        "    A_prh = set(get_min_freq(freq, n))\n",
        "    result = False\n",
        "    seq_freq = {}\n",
        "    Fp = 0\n",
        "    Kp = 0\n",
        "    for l_gram in A_prh:\n",
        "        Fp += sequence.count(l_gram)\n",
        "        Kp += freq[l_gram]\n",
        "    if Fp > Kp:\n",
        "        result = True\n",
        "    return result"
      ],
      "execution_count": 10,
      "outputs": []
    },
    {
      "cell_type": "code",
      "metadata": {
        "id": "oJhcJ0yD3I10"
      },
      "source": [
        "def char_to_int(s):\n",
        "    return [letters[i] for i in s]\n",
        "\n",
        "\n",
        "def int_to_char(int_list):\n",
        "    return ''.join([letter for i in int_list for letter, number in letters.items() if number == i])\n",
        "\n",
        "\n",
        "def vizhener_encrypt(key, text):\n",
        "    int_text = char_to_int(text)\n",
        "    int_key = char_to_int(key)\n",
        "    return ''.join(int_to_char(vizhener_encrypt_int(int_key, int_text)))\n",
        "\n",
        "\n",
        "def vizhener_encrypt_int(int_key, int_text):\n",
        "    key_sequence = vizhener_get_key_sequence(int_key, len(int_text))\n",
        "    return (int_text + key_sequence) % 32\n",
        "\n",
        "\n",
        "def vizhener_get_key_sequence(key, text_length):\n",
        "    if len(key) > text_length:\n",
        "        return key[:text_length]\n",
        "    else:\n",
        "        return np.array([key[i % len(key)] for i in range(text_length)])\n",
        "\n",
        "\n",
        "def vizhener_1(text):\n",
        "    key = random.choice(list(letters.keys()))\n",
        "    return vizhener_encrypt(key, text)\n",
        "\n",
        "\n",
        "def vizhener_5(text):\n",
        "    key = ''\n",
        "    for i in range(5):\n",
        "        key += random.choice(list(letters.keys()))\n",
        "    return vizhener_encrypt(key, text)\n",
        "\n",
        "\n",
        "def vizhener_10(text):\n",
        "    key = ''\n",
        "    for i in range(10):\n",
        "        key += random.choice(list(letters.keys()))\n",
        "    # print(key)\n",
        "    return vizhener_encrypt(key, text)"
      ],
      "execution_count": 11,
      "outputs": []
    },
    {
      "cell_type": "code",
      "metadata": {
        "colab": {
          "base_uri": "https://localhost:8080/",
          "height": 35
        },
        "id": "WY5Dia_m5cvW",
        "outputId": "d2ff36a8-0fde-41f0-a482-db1ccd671027"
      },
      "source": [
        "vizhener_10('ааамамааааббб')"
      ],
      "execution_count": 12,
      "outputs": [
        {
          "output_type": "execute_result",
          "data": {
            "application/vnd.google.colaboratory.intrinsic+json": {
              "type": "string"
            },
            "text/plain": [
              "'вїоефсармягйп'"
            ]
          },
          "metadata": {},
          "execution_count": 12
        }
      ]
    },
    {
      "cell_type": "code",
      "metadata": {
        "id": "C-ZJAAq_5raR"
      },
      "source": [
        "def criterion_1n(freq, sequence, n, k):\n",
        "    A_prh = list(get_min_freq(freq, n))\n",
        "    # print(A_prh)\n",
        "    result = [0] * 4\n",
        "    A_ap = []\n",
        "    seq_freq = {}\n",
        "    Fp = 0\n",
        "    Kp = 0\n",
        "    for l_gram in A_prh:\n",
        "        if l_gram in sequence and result[0] == 0:\n",
        "            result[0] = 1\n",
        "        if l_gram in sequence:\n",
        "            A_ap.append(l_gram)\n",
        "            seq_freq[l_gram] = sequence.count(l_gram)\n",
        "            if seq_freq[l_gram] > freq[l_gram] and result[2] == 0:\n",
        "                result[2] = 1\n",
        "            Fp += seq_freq[l_gram]\n",
        "            Kp += freq[l_gram]\n",
        "    A_ap = set(A_ap)\n",
        "    if len(A_ap.intersection(A_prh)) >= k:\n",
        "        result[1] = 1\n",
        "    if Fp > Kp:\n",
        "        result[3] = 1\n",
        "    return result"
      ],
      "execution_count": 13,
      "outputs": []
    },
    {
      "cell_type": "code",
      "metadata": {
        "id": "8c3owmuSjUlK"
      },
      "source": [
        "def calc_entropy(freq, l):\n",
        "    H_l = 0\n",
        "    count_of_bigrams = np.sum([value for value in freq.values()])#len([key for key in freq.keys() if freq[key] != 0])\n",
        "    for bigram in freq:\n",
        "        if freq[bigram] == 0:\n",
        "            continue\n",
        "        probability = freq[bigram] / count_of_bigrams\n",
        "        # print(bigram, probability)\n",
        "        H_l -= probability * np.log2(probability)\n",
        "    H_l /= l\n",
        "    return H_l"
      ],
      "execution_count": 14,
      "outputs": []
    },
    {
      "cell_type": "code",
      "metadata": {
        "id": "eFDSx_D2OT0d"
      },
      "source": [
        "def entropy_criterion(H_l, seq, l, k_H):\n",
        "    # H_l = calc_entropy(freq, l)\n",
        "    H_k = calc_entropy(calc_freq(seq, l), l)\n",
        "    # print(H_l, H_k)\n",
        "    if np.abs(H_l - H_k) > k_H:\n",
        "        result = True\n",
        "    else:\n",
        "        result = False\n",
        "    return result"
      ],
      "execution_count": 15,
      "outputs": []
    },
    {
      "cell_type": "code",
      "metadata": {
        "id": "PtX78Ap1dQhC"
      },
      "source": [
        "def get_max_freq(freq, n):\n",
        "    return dict(sorted(freq.items(), key=lambda x: x[1], reverse=True)[:n])\n",
        "\n",
        "\n",
        "def empty_box(freq, seq, k ,l, j):\n",
        "    B = get_max_freq(freq, j)\n",
        "    for key in B.keys():\n",
        "        B[key] = 0\n",
        "    keys = list(B.keys())\n",
        "    for i in range(len(seq) - 1):\n",
        "        l_gram = seq[i : i + l]\n",
        "        if l_gram in keys:\n",
        "            B[l_gram] += 1\n",
        "    f_empty = len([key for key in keys if B[key] == 0])\n",
        "    # print(B)\n",
        "    if f_empty >= k:\n",
        "        return True\n",
        "    else:\n",
        "        return False\n",
        "\n",
        "\n",
        "def empty_boxes_j50(freq, seq, k, l):\n",
        "    return empty_box(freq, seq, k, l, 50)\n",
        "\n",
        "\n",
        "def empty_boxes_j100(freq, seq, k, l):\n",
        "    return empty_box(freq, seq, k, l, 100)\n",
        "    \n",
        "\n",
        "def empty_boxes_j200(freq, seq, k, l):\n",
        "    return empty_box(freq, seq, k, l, 200)"
      ],
      "execution_count": 16,
      "outputs": []
    },
    {
      "cell_type": "code",
      "metadata": {
        "id": "U4piTdMriTgy"
      },
      "source": [
        "import gzip\n",
        "from base64 import b64encode, b64decode\n",
        "def structure_criterion(text, threshold):\n",
        "    text_length = len(text)\n",
        "    compressed_length = len(b64encode(gzip.compress(text.encode('utf-8'))).decode('utf-8'))\n",
        "    if np.abs(text_length - compressed_length) / text_length < threshold:\n",
        "        return False\n",
        "    else:\n",
        "        return True"
      ],
      "execution_count": 18,
      "outputs": []
    },
    {
      "cell_type": "code",
      "metadata": {
        "id": "gj7fFMs3-765"
      },
      "source": [
        "def get_bigrams(s):\n",
        "    bigrams = [s[i : i + 2] for i in range(0, len(s), 2)]\n",
        "    # print(type(bigrams), type(bigrams[0]), bigrams)\n",
        "    if len(s) % 2 != 0:\n",
        "        if isinstance(s, list):\n",
        "            bigrams[-1].append(np.random.randint(0, 32, 1, dtype=int)[0])\n",
        "        elif isinstance(s, str):\n",
        "            bigrams[-1].append(int_to_char([np.random.randint(0, 32, 1, dtype=int)[0]]))\n",
        "    # print(bigrams)\n",
        "    return bigrams\n",
        "\n",
        "\n",
        "def encode_bigrams(text):\n",
        "    bigrams = get_bigrams(char_to_int(text))\n",
        "    X = [i[0] * 32 + i[1] for i in bigrams]\n",
        "    return X\n",
        "\n",
        "\n",
        "def decode_bigrams(X):\n",
        "    int_text = []\n",
        "    for x in X:\n",
        "        i_0 = x // 32\n",
        "        i_1 = x - i_0 * 32\n",
        "        int_text.append(i_0 % 32)\n",
        "        int_text.append(i_1 % 32)\n",
        "    return int_text\n",
        "\n",
        "\n",
        "def athen_2_encrypt(keypair, text):\n",
        "    a, b = keypair\n",
        "    X = encode_bigrams(text)\n",
        "    Y = [(a * x + b) % (32 ** 2) for x in X]\n",
        "    int_ciphertext = decode_bigrams(Y)\n",
        "    return int_to_char(int_ciphertext)\n",
        "\n",
        "\n",
        "def athen_1_encrypt(keypair, text):\n",
        "    a, b = keypair\n",
        "    X = char_to_int(text)\n",
        "    Y = [(a * x + b) % 32 for x in X]\n",
        "    return int_to_char(Y)\n",
        "\n",
        "\n",
        "def athen_2(text):\n",
        "    a = np.random.randint(1, 32 ** 2)\n",
        "    while np.gcd(a, 32) != 1:\n",
        "        a = np.random.randint(1, 32 ** 2)\n",
        "    b = np.random.randint(0, 32 ** 2)\n",
        "    keypair = (a, b)\n",
        "    # print(keypair)\n",
        "    return athen_2_encrypt(keypair, text)\n",
        "\n",
        "\n",
        "def athen_1(text):\n",
        "    a = np.random.randint(1, 32)\n",
        "    while np.gcd(a, 32) != 1:\n",
        "        a = np.random.randint(1, 32)\n",
        "    b = np.random.randint(0, 32)\n",
        "    keypair = (a, b)\n",
        "    # print(keypair)\n",
        "    return athen_1_encrypt(keypair, text)"
      ],
      "execution_count": 20,
      "outputs": []
    },
    {
      "cell_type": "code",
      "metadata": {
        "colab": {
          "base_uri": "https://localhost:8080/",
          "height": 35
        },
        "id": "pPqqfgbs_mqj",
        "outputId": "738c0a59-abd5-4ecb-9d8e-397d74ee7fe0"
      },
      "source": [
        "athen_1('мамалюбимаяф')"
      ],
      "execution_count": 21,
      "outputs": [
        {
          "output_type": "execute_result",
          "data": {
            "application/vnd.google.colaboratory.intrinsic+json": {
              "type": "string"
            },
            "text/plain": [
              "'додожфлудосй'"
            ]
          },
          "metadata": {},
          "execution_count": 21
        }
      ]
    },
    {
      "cell_type": "code",
      "metadata": {
        "id": "BwW8xzTpC0ZR"
      },
      "source": [
        "def uniform_1(L):\n",
        "    return int_to_char([np.random.randint(32) for _ in range(L)])\n",
        "\n",
        "\n",
        "def uniform_2(L):\n",
        "    return int_to_char(decode_bigrams([np.random.randint(32 ** 2) for _ in range(int(L / 2))]))\n",
        "\n",
        "\n",
        "def s_1(L):\n",
        "    s0 = np.random.randint(32)\n",
        "    s1 = np.random.randint(32)\n",
        "    S = [0] * L\n",
        "    S[0] = s0\n",
        "    S[1] = s1\n",
        "    for i in range(2, L):\n",
        "        S[i] = (S[i - 1] + S[i - 2]) % 32\n",
        "    return int_to_char(S)\n",
        "\n",
        "\n",
        "def s_2(L):\n",
        "    s0 = np.random.randint(32 ** 2)\n",
        "    s1 = np.random.randint(32 ** 2)\n",
        "    S = [0] * int(L / 2)\n",
        "    S[0] = s0\n",
        "    S[1] = s1\n",
        "    for i in range(2, int(L / 2)):\n",
        "        S[i] = (S[i - 1] + S[i - 2]) % (32 ** 2)\n",
        "    return int_to_char(decode_bigrams(S))"
      ],
      "execution_count": 22,
      "outputs": []
    },
    {
      "cell_type": "code",
      "metadata": {
        "colab": {
          "base_uri": "https://localhost:8080/",
          "height": 35
        },
        "id": "Ts_xDNjDDWCe",
        "outputId": "63b2d965-a874-4ca8-fd1d-db2c2f55280c"
      },
      "source": [
        "s_2(10)"
      ],
      "execution_count": 23,
      "outputs": [
        {
          "output_type": "execute_result",
          "data": {
            "application/vnd.google.colaboratory.intrinsic+json": {
              "type": "string"
            },
            "text/plain": [
              "'дздсзщкнуй'"
            ]
          },
          "metadata": {},
          "execution_count": 23
        }
      ]
    },
    {
      "cell_type": "code",
      "metadata": {
        "id": "RN80LMQq0-Yy"
      },
      "source": [
        "ciphers = [vizhener_1, vizhener_5, vizhener_10, athen_1, athen_2, uniform_1, uniform_2, s_1, s_2]\n",
        "L = [10, 100, 1000, 10000]\n",
        "N = [10000, 1000]\n",
        "\n",
        "with open('text.txt') as f:\n",
        "    text = f.read()\n",
        "text = filter(text)\n",
        "\n",
        "# texts = {str(L_i): get_text_N_L(text, N, L_i) for L_i in L}\n",
        "texts = {}\n",
        "\n",
        "i = 0\n",
        "for L_i in L:\n",
        "    if L_i == 10000:\n",
        "        i = 1\n",
        "    texts[str(L_i)] = get_text_N_L(text, N[i], L_i)"
      ],
      "execution_count": 30,
      "outputs": []
    },
    {
      "cell_type": "code",
      "metadata": {
        "id": "_7TwNy721HBu"
      },
      "source": [
        "dataframes = {}\n",
        "l = [1, 2]\n",
        "freq = [calc_freq(text, 1), calc_freq(text, 2)] \n",
        "H_l = [calc_entropy(freq[0], 1), calc_entropy(freq[1], 2)]\n",
        "cr_10 = [5, 100]\n",
        "cr_11 = [[10, 1], [250, 10]]\n",
        "cr_12 = [25, 50]\n",
        "cr_13 = [25, 60]\n",
        "# entropy_thresholds = {'10': [2.5, 2.8], '100': [0.3, 1], '1000': [0.03, 0.3]}\n",
        "entropy_thresholds = [0.04, 1.15]\n",
        "boxes_50 = [15, 30]\n",
        "boxes_100 = [25, 45]\n",
        "boxes_200 = [27, 80]\n",
        "structure_thresholds = [5.1, 0.95, 0.2, 0.2]\n",
        "\n",
        "for cipher in ciphers:\n",
        "    cipher_name = re.findall(r'[a-z_0-9]+', str(cipher))[1]\n",
        "    L_flag = False\n",
        "    if cipher_name in ('uniform_1', 'uniform_2', 's_1', 's_2'):\n",
        "        L_flag = True\n",
        "\n",
        "    k = 0\n",
        "    for v, L_i in enumerate(L):\n",
        "        if L_i == 10000:\n",
        "            k = 1\n",
        "        table_name = f'Cipher: {cipher_name}, L = {str(L_i)}'\n",
        "        print('#*#' * 10)\n",
        "        print(table_name)\n",
        "        columns = {\n",
        "            'criterions': [\n",
        "                           f'1.0 (n={cr_10})',\n",
        "                           f'1.1 (n={cr_11}, k={cr_11})',\n",
        "                           f'1.2 (k={cr_12})',\n",
        "                           f'1.3 (Kp={cr_13})',\n",
        "                           f'3.0 (H_l={H_l}, k={entropy_thresholds})',\n",
        "                           f'5.1 j=50 (k={boxes_50})',\n",
        "                           f'5.1 j=100 (k={boxes_100})',\n",
        "                           f'5.1 j=200 (k={boxes_200})',\n",
        "                           f'struct (threshold={structure_thresholds} for L)'\n",
        "            ],\n",
        "            'FP(l=1)': [], 'FN(l=1)': [], 'FP(l=2)': [], 'FN(l=2)': []\n",
        "        }\n",
        "\n",
        "        for i, l_i in enumerate(l):\n",
        "            # n = 20 * l_i\n",
        "            entropy_threshold = entropy_thresholds[i]\n",
        "            FP_flag = False\n",
        "        \n",
        "\n",
        "            if not FP_flag:\n",
        "                criterion_10_FP = 0\n",
        "                criterion_11_FP = 0\n",
        "                criterion_12_FP = 0\n",
        "                criterion_13_FP = 0\n",
        "                entropy_criterion_FP = 0\n",
        "                box_50_criterion_FP = 0\n",
        "                box_100_criterion_FP = 0\n",
        "                box_200_criterion_FP = 0\n",
        "                structure_criterion_FP = 0\n",
        "                for text in texts[str(L_i)]:\n",
        "                    criterion_10_FP += criterion_10(freq[i], text, cr_10[i])\n",
        "                    criterion_11_FP += criterion_11(freq[i], text, *cr_11[i])\n",
        "                    criterion_12_FP += criterion_12(freq[i], text, cr_12[i])\n",
        "                    criterion_13_FP += criterion_13(freq[i], text, cr_13[i])\n",
        "                    entropy_criterion_FP += entropy_criterion(H_l[i], text, l_i, entropy_threshold)\n",
        "                    box_50_criterion_FP += empty_boxes_j50(freq[i], text, boxes_50[i], l_i)\n",
        "                    box_100_criterion_FP += empty_boxes_j100(freq[i], text, boxes_100[i], l_i)\n",
        "                    box_200_criterion_FP += empty_boxes_j200(freq[i], text, boxes_200[i], l_i)\n",
        "                    structure_criterion_FP += structure_criterion(text, structure_thresholds[v])\n",
        "                FP_flag = True\n",
        "                criterion_10_FP = (criterion_10_FP / N[k])\n",
        "                criterion_11_FP = (criterion_11_FP / N[k])\n",
        "                criterion_12_FP = (criterion_12_FP / N[k])\n",
        "                criterion_13_FP = (criterion_13_FP / N[k])\n",
        "                entropy_criterion_FP = (entropy_criterion_FP / N[k])\n",
        "                box_50_criterion_FP = (box_50_criterion_FP / N[k])\n",
        "                box_100_criterion_FP = (box_100_criterion_FP / N[k])\n",
        "                box_200_criterion_FP = (box_200_criterion_FP / N[k])\n",
        "                structure_criterion_FP = (structure_criterion_FP / N[k])\n",
        "\n",
        "\n",
        "            criterion_10_result = 0\n",
        "            criterion_11_result = 0\n",
        "            criterion_12_result = 0\n",
        "            criterion_13_result = 0\n",
        "            entropy_criterion_result = 0\n",
        "            box_50_criterion_result = 0\n",
        "            box_100_criterion_result = 0\n",
        "            box_200_criterion_result = 0\n",
        "\n",
        "            structure_criterion_result = 0\n",
        "            for text in texts[str(L_i)]:\n",
        "                ciphertext = cipher(text) if L_flag == False else cipher(L_i)\n",
        "                criterion_10_result += criterion_10(freq[i], ciphertext, cr_10[i])\n",
        "                criterion_11_result += criterion_11(freq[i], ciphertext, *cr_11[i])\n",
        "                criterion_12_result += criterion_12(freq[i], ciphertext, cr_12[i])\n",
        "                criterion_13_result += criterion_13(freq[i], ciphertext, cr_13[i])\n",
        "                entropy_criterion_result += entropy_criterion(H_l[i], ciphertext, l_i, entropy_threshold)\n",
        "                box_50_criterion_result += empty_boxes_j50(freq[i], ciphertext, boxes_50[i], l_i)\n",
        "                box_100_criterion_result += empty_boxes_j100(freq[i], ciphertext, boxes_100[i], l_i)\n",
        "                box_200_criterion_result += empty_boxes_j200(freq[i], ciphertext, boxes_200[i], l_i)\n",
        "                structure_criterion_result += structure_criterion(ciphertext, structure_thresholds[v])\n",
        "\n",
        "            criterion_10_FN = (N[k] - criterion_10_result) / N[k]\n",
        "            criterion_11_FN = (N[k] - criterion_11_result) / N[k]\n",
        "            criterion_12_FN = (N[k] - criterion_12_result) / N[k]\n",
        "            criterion_13_FN = (N[k] - criterion_13_result) / N[k]\n",
        "            entropy_criterion_FN = (N[k] - entropy_criterion_result) / N[k]\n",
        "            box_50_criterion_FN = (N[k] - box_50_criterion_result) / N[k]\n",
        "            box_100_criterion_FN = (N[k] - box_100_criterion_result) / N[k]\n",
        "            box_200_criterion_FN = (N[k] - box_200_criterion_result) / N[k]\n",
        "            structure_criterion_FN = (N[k] - structure_criterion_result) / N[k]\n",
        "            columns[f'FP(l={l_i})'] = [\n",
        "                                criterion_10_FP,\n",
        "                                criterion_11_FP,\n",
        "                                criterion_12_FP,\n",
        "                                criterion_13_FP,\n",
        "                                entropy_criterion_FP,\n",
        "                                box_50_criterion_FP,\n",
        "                                box_100_criterion_FP,\n",
        "                                box_200_criterion_FP,\n",
        "                                structure_criterion_FP\n",
        "            ]\n",
        "            columns[f'FN(l={l_i})'] = [\n",
        "                                criterion_10_FN,\n",
        "                                criterion_11_FN,\n",
        "                                criterion_12_FN,\n",
        "                                criterion_13_FN,\n",
        "                                entropy_criterion_FN,\n",
        "                                box_50_criterion_FN,\n",
        "                                box_100_criterion_FN,\n",
        "                                box_200_criterion_FN,\n",
        "                                structure_criterion_FN\n",
        "            ]\n",
        "\n",
        "        df = pd.DataFrame(data=columns)\n",
        "        dataframes[table_name] = df\n",
        "        \n",
        "#         print(f'''\\tcriterion_10_result = {criterion_10_result}\n",
        "# \\tcriterion_11_result = {criterion_11_result}\n",
        "# \\tcriterion_12_result = {criterion_12_result}\n",
        "# \\tcriterion_13_result = {criterion_13_result}\n",
        "# \\tentropy_criterion_result = {entropy_criterion_result}''')\n",
        "        print(df)\n"
      ],
      "execution_count": null,
      "outputs": []
    },
    {
      "cell_type": "code",
      "metadata": {
        "colab": {
          "base_uri": "https://localhost:8080/"
        },
        "id": "Can3bMVb8iZO",
        "outputId": "8096c87e-cbeb-42f2-af50-19d859751a2f"
      },
      "source": [
        "print(dataframes['Cipher: vizhener_1, L = 10'].to_latex())"
      ],
      "execution_count": 28,
      "outputs": [
        {
          "output_type": "stream",
          "name": "stdout",
          "text": [
            "\\begin{tabular}{llrrrr}\n",
            "\\toprule\n",
            "{} &                                         criterions &  FP(l=1) &  FN(l=1) &  FP(l=2) &  FN(l=2) \\\\\n",
            "\\midrule\n",
            "0 &                                   1.0 (n=[5, 100]) &   0.9892 &   0.2112 &   0.7064 &   0.6462 \\\\\n",
            "1 &  1.1 (n=[[10, 1], [250, 10]], k=[[10, 1], [250,... &   0.9995 &   0.0687 &   0.0017 &   1.0000 \\\\\n",
            "2 &                                   1.2 (k=[25, 50]) &   0.6796 &   0.7404 &   0.5406 &   0.7157 \\\\\n",
            "3 &                                  1.3 (Kp=[25, 60]) &   0.0011 &   1.0000 &   0.0026 &   0.9994 \\\\\n",
            "4 &  3.0 (H\\_l=[2.9219280948873623, 1.58496250072115... &   0.7264 &   0.2736 &   0.0009 &   1.0000 \\\\\n",
            "5 &                              5.1 j=50 (k=[15, 30]) &   0.0073 &   1.0000 &   1.0000 &   0.0058 \\\\\n",
            "6 &                             5.1 j=100 (k=[25, 45]) &   0.0061 &   1.0000 &   1.0000 &   0.0053 \\\\\n",
            "7 &                             5.1 j=200 (k=[27, 80]) &   0.0069 &   1.0000 &   0.0069 &   1.0000 \\\\\n",
            "8 &     struct (threshold=[5.1, 0.95, 0.2, 0.2] for L) &   0.0031 &   0.0043 &   0.0031 &   0.0043 \\\\\n",
            "\\bottomrule\n",
            "\\end{tabular}\n",
            "\n"
          ]
        }
      ]
    },
    {
      "cell_type": "code",
      "metadata": {
        "id": "ZrLb7NyZz_s-"
      },
      "source": [
        "f = open('output_tables.txt', 'w')\n",
        "tables = ''\n",
        "for title, df in dataframes.items():\n",
        "    tables += f'{title}\\n\\n{df.to_latex(index=False)}\\n\\n'\n",
        "f.write(tables)\n",
        "f.close()"
      ],
      "execution_count": 32,
      "outputs": []
    },
    {
      "cell_type": "code",
      "metadata": {
        "id": "N-tptnNFU9lL"
      },
      "source": [
        "string = 'а' * 10000\n",
        "c = athen_2(string)"
      ],
      "execution_count": 33,
      "outputs": []
    },
    {
      "cell_type": "code",
      "metadata": {
        "colab": {
          "base_uri": "https://localhost:8080/"
        },
        "id": "09koDCHLVZtn",
        "outputId": "6a77d8ff-c13c-4607-d96c-aa3ca7641d48"
      },
      "source": [
        "structure_criterion(string, 0.2)"
      ],
      "execution_count": 34,
      "outputs": [
        {
          "output_type": "execute_result",
          "data": {
            "text/plain": [
              "True"
            ]
          },
          "metadata": {},
          "execution_count": 34
        }
      ]
    },
    {
      "cell_type": "code",
      "metadata": {
        "colab": {
          "base_uri": "https://localhost:8080/"
        },
        "id": "bYjmP1TqVaQz",
        "outputId": "16c7145e-a006-4bd8-a330-2fa560687efd"
      },
      "source": [
        "structure_criterion(c, 0.2)"
      ],
      "execution_count": 35,
      "outputs": [
        {
          "output_type": "execute_result",
          "data": {
            "text/plain": [
              "True"
            ]
          },
          "metadata": {},
          "execution_count": 35
        }
      ]
    },
    {
      "cell_type": "code",
      "metadata": {
        "id": "5JhmMjbMVfag"
      },
      "source": [
        "string = 'аб' * 5000\n",
        "c = athen_2(string)"
      ],
      "execution_count": 36,
      "outputs": []
    },
    {
      "cell_type": "code",
      "metadata": {
        "colab": {
          "base_uri": "https://localhost:8080/"
        },
        "id": "x27JP39SVjvs",
        "outputId": "2527aa0d-80f7-4454-b98c-e661736a1c2e"
      },
      "source": [
        "structure_criterion(string, 0.2)"
      ],
      "execution_count": 37,
      "outputs": [
        {
          "output_type": "execute_result",
          "data": {
            "text/plain": [
              "True"
            ]
          },
          "metadata": {},
          "execution_count": 37
        }
      ]
    },
    {
      "cell_type": "code",
      "metadata": {
        "colab": {
          "base_uri": "https://localhost:8080/"
        },
        "id": "ZujhtYniVl8h",
        "outputId": "8634afaf-686b-4c7f-e1c9-692664a1a15a"
      },
      "source": [
        "structure_criterion(c, 0.2)"
      ],
      "execution_count": 38,
      "outputs": [
        {
          "output_type": "execute_result",
          "data": {
            "text/plain": [
              "True"
            ]
          },
          "metadata": {},
          "execution_count": 38
        }
      ]
    },
    {
      "cell_type": "code",
      "metadata": {
        "colab": {
          "base_uri": "https://localhost:8080/",
          "height": 35
        },
        "id": "U_uAGjMmVpTg",
        "outputId": "00183553-0a00-4827-d23e-fc48534b2a6c"
      },
      "source": [
        "c[:100]"
      ],
      "execution_count": 39,
      "outputs": [
        {
          "output_type": "execute_result",
          "data": {
            "application/vnd.google.colaboratory.intrinsic+json": {
              "type": "string"
            },
            "text/plain": [
              "'щжщжщжщжщжщжщжщжщжщжщжщжщжщжщжщжщжщжщжщжщжщжщжщжщжщжщжщжщжщжщжщжщжщжщжщжщжщжщжщжщжщжщжщжщжщжщжщжщжщж'"
            ]
          },
          "metadata": {},
          "execution_count": 39
        }
      ]
    },
    {
      "cell_type": "code",
      "metadata": {
        "id": "n6WsQIWXV1Af"
      },
      "source": [
        "with open('text.txt', 'r') as f:\n",
        "    text = filter(f.read())"
      ],
      "execution_count": 41,
      "outputs": []
    },
    {
      "cell_type": "code",
      "metadata": {
        "id": "T045fG7-V8zg"
      },
      "source": [
        "fr = calc_freq(text, 2)"
      ],
      "execution_count": 58,
      "outputs": []
    },
    {
      "cell_type": "code",
      "metadata": {
        "colab": {
          "base_uri": "https://localhost:8080/"
        },
        "id": "V8jMbNXTWCdM",
        "outputId": "e80b6153-3b8a-4889-df7d-e1e9a6af35b3"
      },
      "source": [
        "criterion_10(fr, text, 60)"
      ],
      "execution_count": 59,
      "outputs": [
        {
          "output_type": "stream",
          "name": "stdout",
          "text": [
            "{'єе', 'кь', 'йь', 'лф', 'шю', 'фж', 'жф', 'сф', 'гь', 'хь', 'йф', 'мь', 'хє', 'фй', 'яь', 'іф', 'шє', 'фн', 'фю', 'фя', 'фш', 'фп', 'гц', 'вь', 'фл', 'єи', 'рф', 'їе', 'еь', 'іь', 'мф', 'лв', 'нф', 'лш', 'юи', 'тф', 'лж', 'оь', 'пж', 'вф', 'єф', 'юь', 'фв', 'гф', 'гю', 'яф', 'аь', 'фх', 'жь', 'хф', 'єь', 'їь', 'фс', 'жє', 'шф', 'фк', 'фр', 'жю', 'йю', 'хю'}\n"
          ]
        },
        {
          "output_type": "execute_result",
          "data": {
            "text/plain": [
              "False"
            ]
          },
          "metadata": {},
          "execution_count": 59
        }
      ]
    }
  ]
}