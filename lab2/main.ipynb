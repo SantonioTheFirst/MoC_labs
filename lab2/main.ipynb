{
  "nbformat": 4,
  "nbformat_minor": 0,
  "metadata": {
    "colab": {
      "name": "Untitled3.ipynb",
      "provenance": [],
      "authorship_tag": "ABX9TyOZJsIh13h14CNpdR9UmA3A",
      "include_colab_link": true
    },
    "kernelspec": {
      "name": "python3",
      "display_name": "Python 3"
    },
    "language_info": {
      "name": "python"
    }
  },
  "cells": [
    {
      "cell_type": "markdown",
      "metadata": {
        "id": "view-in-github",
        "colab_type": "text"
      },
      "source": [
        "<a href=\"https://colab.research.google.com/github/SantonioTheFirst/MoC_labs/blob/main/lab2/main.ipynb\" target=\"_parent\"><img src=\"https://colab.research.google.com/assets/colab-badge.svg\" alt=\"Open In Colab\"/></a>"
      ]
    },
    {
      "cell_type": "code",
      "metadata": {
        "id": "BkQHzSjP3W-0"
      },
      "source": [
        "import re\n",
        "import numpy as np\n",
        "from collections import Counter"
      ],
      "execution_count": 39,
      "outputs": []
    },
    {
      "cell_type": "code",
      "metadata": {
        "id": "rZ4WTNyO3bQP"
      },
      "source": [
        "with open('text.txt') as f:\n",
        "  text = f.read()"
      ],
      "execution_count": 40,
      "outputs": []
    },
    {
      "cell_type": "code",
      "metadata": {
        "id": "IZwP0D6U3fX8"
      },
      "source": [
        "text = ''.join(re.findall(r'[а-яієїґ]+', text.lower()))\n",
        "text = text.replace('ы', 'и')\n",
        "text = text.replace('ґ', 'г')"
      ],
      "execution_count": 41,
      "outputs": []
    },
    {
      "cell_type": "code",
      "metadata": {
        "id": "Y9eTOers4snX"
      },
      "source": [
        "letters = np.where(np.array(list(text)) == 'ы')[0]"
      ],
      "execution_count": 42,
      "outputs": []
    },
    {
      "cell_type": "code",
      "metadata": {
        "colab": {
          "base_uri": "https://localhost:8080/"
        },
        "id": "hFIjzj_m624z",
        "outputId": "7c6f8a95-bbee-472d-88c4-793e389fa280"
      },
      "source": [
        "len(Counter(text))"
      ],
      "execution_count": 43,
      "outputs": [
        {
          "output_type": "execute_result",
          "data": {
            "text/plain": [
              "32"
            ]
          },
          "metadata": {},
          "execution_count": 43
        }
      ]
    },
    {
      "cell_type": "code",
      "metadata": {
        "id": "IXwnZ-0K9C16"
      },
      "source": [
        ""
      ],
      "execution_count": null,
      "outputs": []
    }
  ]
}