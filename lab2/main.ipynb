{
  "nbformat": 4,
  "nbformat_minor": 0,
  "metadata": {
    "colab": {
      "name": "MoC_lab2.ipynb",
      "provenance": [],
      "collapsed_sections": [],
      "authorship_tag": "ABX9TyPKL0TmlQYyCo/B8e/zOXPb",
      "include_colab_link": true
    },
    "kernelspec": {
      "name": "python3",
      "display_name": "Python 3"
    },
    "language_info": {
      "name": "python"
    }
  },
  "cells": [
    {
      "cell_type": "markdown",
      "metadata": {
        "id": "view-in-github",
        "colab_type": "text"
      },
      "source": [
        "<a href=\"https://colab.research.google.com/github/SantonioTheFirst/MoC_labs/blob/main/lab2/main.ipynb\" target=\"_parent\"><img src=\"https://colab.research.google.com/assets/colab-badge.svg\" alt=\"Open In Colab\"/></a>"
      ]
    },
    {
      "cell_type": "code",
      "metadata": {
        "id": "BkQHzSjP3W-0"
      },
      "source": [
        "import re\n",
        "import numpy as np\n",
        "from collections import Counter"
      ],
      "execution_count": 1,
      "outputs": []
    },
    {
      "cell_type": "code",
      "metadata": {
        "id": "rZ4WTNyO3bQP"
      },
      "source": [
        "with open('text.txt') as f:\n",
        "    text = f.read()"
      ],
      "execution_count": 2,
      "outputs": []
    },
    {
      "cell_type": "code",
      "metadata": {
        "id": "IZwP0D6U3fX8"
      },
      "source": [
        "text = ''.join(re.findall(r'[а-яієїґ]+', text.lower()))\n",
        "text = text.replace('ы', 'и')\n",
        "text = text.replace('ґ', 'г')"
      ],
      "execution_count": 3,
      "outputs": []
    },
    {
      "cell_type": "code",
      "metadata": {
        "id": "hFIjzj_m624z"
      },
      "source": [
        "def calc_freq(text, l):\n",
        "    if l == 1:\n",
        "        freq = dict(Counter(text))\n",
        "    # print(freq)\n",
        "    elif l == 2:\n",
        "        all_letters = list(set(text))\n",
        "        freq = {}\n",
        "        for i in all_letters:\n",
        "            for j in all_letters:\n",
        "                bigram = i + j\n",
        "                freq[bigram] = text.count(bigram)\n",
        "    else:\n",
        "        freq = {}\n",
        "    result = dict(sorted(freq.items(), key=lambda x: x[1], reverse=True))\n",
        "    return result"
      ],
      "execution_count": 4,
      "outputs": []
    },
    {
      "cell_type": "code",
      "metadata": {
        "id": "bcRXG02epMjL"
      },
      "source": [
        "freq = calc_freq(text, 2)"
      ],
      "execution_count": 5,
      "outputs": []
    },
    {
      "cell_type": "code",
      "metadata": {
        "id": "Gm3uKW-QvP3s"
      },
      "source": [
        "# берем мин значение и несколько значений больше\n",
        "def get_min_freq(freq, n):\n",
        "    return dict(sorted(freq.items(), key=lambda x: x[1], reverse=True)[-n:])"
      ],
      "execution_count": 6,
      "outputs": []
    },
    {
      "cell_type": "code",
      "metadata": {
        "id": "DEC44bzXjg9b"
      },
      "source": [
        "def get_text_N_L(text, N, L):\n",
        "  result = []\n",
        "  for i in range(N):\n",
        "    idx = np.random.randint(low=0, high=len(text) - L)\n",
        "    result.append(text[idx : idx + L])\n",
        "  return result"
      ],
      "execution_count": 7,
      "outputs": []
    },
    {
      "cell_type": "code",
      "metadata": {
        "id": "l9im66xbyVyO"
      },
      "source": [
        "def criteria_10(freq, sequence, n):\n",
        "    # if l == 1:\n",
        "    #     n = 3\n",
        "    # elif l == 2:\n",
        "    #     n = 100\n",
        "    A_prh = list(get_min_freq(freq, n))\n",
        "    result = True\n",
        "    # print(A_prh)\n",
        "    for l_gram in A_prh:\n",
        "        # print(l_gram)\n",
        "        if l_gram in sequence:\n",
        "            # print(l_gram)\n",
        "            result = False\n",
        "            break\n",
        "    return result"
      ],
      "execution_count": 8,
      "outputs": []
    },
    {
      "cell_type": "code",
      "metadata": {
        "id": "cCelckVihno2"
      },
      "source": [
        "def criteria_11(freq, sequence, n, k):\n",
        "    # if l == 1:\n",
        "    #     n = 3\n",
        "    # elif l == 2:\n",
        "    #     n = 150\n",
        "    A_prh = set(get_min_freq(freq, n))\n",
        "    result = True\n",
        "    A_ap = []\n",
        "    for l_gram in A_prh:\n",
        "        # print(l_gram)\n",
        "        if l_gram in sequence:\n",
        "            # print('O')\n",
        "            A_ap.append(l_gram)\n",
        "    A_ap = set(A_ap)\n",
        "    # print(A_prh)\n",
        "    # print(A_ap)\n",
        "    # print(A_prh)\n",
        "    # print(len(A_ap))\n",
        "    if len(A_prh.intersection(A_ap)) >= k:\n",
        "        result = False\n",
        "    return result"
      ],
      "execution_count": 9,
      "outputs": []
    },
    {
      "cell_type": "code",
      "metadata": {
        "id": "6AHmnjtTrgzM"
      },
      "source": [
        "def criteria_12(freq, sequence, n):\n",
        "    A_prh = set(get_min_freq(freq, n))\n",
        "    result = True\n",
        "    seq_freq = {}\n",
        "    for l_gram in A_prh:\n",
        "        seq_freq[l_gram] = sequence.count(l_gram)\n",
        "        if seq_freq[l_gram] > freq[l_gram]:\n",
        "            result = False\n",
        "            break\n",
        "    return result"
      ],
      "execution_count": 10,
      "outputs": []
    },
    {
      "cell_type": "code",
      "metadata": {
        "id": "jS8MgOdZ36Rs"
      },
      "source": [
        "def criteria_13(freq, sequence, n):\n",
        "    A_prh = set(get_min_freq(freq, n))\n",
        "    result = True\n",
        "    seq_freq = {}\n",
        "    Fp = 0\n",
        "    Kp = 0\n",
        "    for l_gram in A_prh:\n",
        "        Fp += sequence.count(l_gram)\n",
        "        Kp += freq[l_gram]\n",
        "    if Fp > Kp:\n",
        "        result = False\n",
        "    return result"
      ],
      "execution_count": 11,
      "outputs": []
    },
    {
      "cell_type": "code",
      "metadata": {
        "id": "C-ZJAAq_5raR"
      },
      "source": [
        "def criteria_1n(freq, sequence, n, k):\n",
        "    A_prh = list(get_min_freq(freq, n))\n",
        "    result = [True] * 4\n",
        "    A_ap = []\n",
        "    seq_freq = {}\n",
        "    Fp = 0\n",
        "    Kp = 0\n",
        "    for l_gram in A_prh:\n",
        "        if l_gram in sequence and result[0] == True:\n",
        "            result[0] = False\n",
        "        if l_gram in sequence:\n",
        "            A_ap.append(l_gram)\n",
        "            seq_freq[l_gram] = sequence.count(l_gram)\n",
        "            if seq_freq[l_gram] > freq[l_gram] and result[2] == True:\n",
        "                result[2] = False\n",
        "            Fp += seq_freq[l_gram]\n",
        "            Kp += freq[l_gram]\n",
        "    A_ap = set(A_ap)\n",
        "    if len(A_ap.intersection(A_prh)) >= k:\n",
        "        result[1] = False\n",
        "    if Fp > Kp:\n",
        "        result[3] = False\n",
        "    return result"
      ],
      "execution_count": 12,
      "outputs": []
    },
    {
      "cell_type": "code",
      "metadata": {
        "colab": {
          "base_uri": "https://localhost:8080/"
        },
        "id": "C3E-egQivt_W",
        "outputId": "c69047f8-7bf9-421d-d283-da130215a45d"
      },
      "source": [
        "n = 100\n",
        "criteria_10(freq, text, n)"
      ],
      "execution_count": 13,
      "outputs": [
        {
          "output_type": "execute_result",
          "data": {
            "text/plain": [
              "True"
            ]
          },
          "metadata": {},
          "execution_count": 13
        }
      ]
    },
    {
      "cell_type": "code",
      "metadata": {
        "colab": {
          "base_uri": "https://localhost:8080/"
        },
        "id": "S5r1qXhykyCR",
        "outputId": "4f4c7d8e-01fe-43c3-b198-9c0603012915"
      },
      "source": [
        "n = 100\n",
        "criteria_11(freq, text, n, int(n/2))"
      ],
      "execution_count": 14,
      "outputs": [
        {
          "output_type": "execute_result",
          "data": {
            "text/plain": [
              "True"
            ]
          },
          "metadata": {},
          "execution_count": 14
        }
      ]
    },
    {
      "cell_type": "code",
      "metadata": {
        "colab": {
          "base_uri": "https://localhost:8080/"
        },
        "id": "fch-hFC305cG",
        "outputId": "cb81d48b-0533-4ee7-face-fa455c45b309"
      },
      "source": [
        "n = 100\n",
        "criteria_12(freq, text, n)"
      ],
      "execution_count": 15,
      "outputs": [
        {
          "output_type": "execute_result",
          "data": {
            "text/plain": [
              "True"
            ]
          },
          "metadata": {},
          "execution_count": 15
        }
      ]
    },
    {
      "cell_type": "code",
      "metadata": {
        "colab": {
          "base_uri": "https://localhost:8080/"
        },
        "id": "FvYszgw543JJ",
        "outputId": "4e341c2e-98ee-44e2-a20e-a753dbe990f6"
      },
      "source": [
        "n = 100\n",
        "criteria_13(freq, text, n)"
      ],
      "execution_count": 16,
      "outputs": [
        {
          "output_type": "execute_result",
          "data": {
            "text/plain": [
              "True"
            ]
          },
          "metadata": {},
          "execution_count": 16
        }
      ]
    },
    {
      "cell_type": "code",
      "metadata": {
        "colab": {
          "base_uri": "https://localhost:8080/"
        },
        "id": "IXwnZ-0K9C16",
        "outputId": "de3be2a7-e02f-4f3f-ba62-71afb830fd17"
      },
      "source": [
        "%%timeit -n 1000\n",
        "n = 100\n",
        "criteria_10(freq, text, n)\n",
        "criteria_11(freq, text, n, int(n/2))\n",
        "criteria_12(freq, text, n)\n",
        "criteria_13(freq, text, n)"
      ],
      "execution_count": 17,
      "outputs": [
        {
          "output_type": "stream",
          "name": "stdout",
          "text": [
            "1000 loops, best of 5: 102 ms per loop\n"
          ]
        }
      ]
    },
    {
      "cell_type": "code",
      "metadata": {
        "colab": {
          "base_uri": "https://localhost:8080/"
        },
        "id": "5H1laLFk7hA4",
        "outputId": "f74c1107-583a-4fb8-917d-8ee9e1fca47d"
      },
      "source": [
        "%%timeit -n 1000\n",
        "n = 100\n",
        "criteria_1n(freq, text, n, int(n / 2))"
      ],
      "execution_count": 18,
      "outputs": [
        {
          "output_type": "stream",
          "name": "stdout",
          "text": [
            "1000 loops, best of 5: 50.3 ms per loop\n"
          ]
        }
      ]
    },
    {
      "cell_type": "code",
      "metadata": {
        "id": "3b4WV11rabSj"
      },
      "source": [
        "get_text_N_L(text, 10000, 100)"
      ],
      "execution_count": null,
      "outputs": []
    },
    {
      "cell_type": "code",
      "metadata": {
        "id": "IT4e-1GLa1ZM"
      },
      "source": [
        ""
      ],
      "execution_count": 70,
      "outputs": []
    }
  ]
}