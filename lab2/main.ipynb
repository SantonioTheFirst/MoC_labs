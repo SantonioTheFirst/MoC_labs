{
  "nbformat": 4,
  "nbformat_minor": 0,
  "metadata": {
    "colab": {
      "name": "MoC_lab2.ipynb",
      "provenance": [],
      "collapsed_sections": [],
      "authorship_tag": "ABX9TyMH9dDvyq9aS1d7tDMcjZC6",
      "include_colab_link": true
    },
    "kernelspec": {
      "name": "python3",
      "display_name": "Python 3"
    },
    "language_info": {
      "name": "python"
    }
  },
  "cells": [
    {
      "cell_type": "markdown",
      "metadata": {
        "id": "view-in-github",
        "colab_type": "text"
      },
      "source": [
        "<a href=\"https://colab.research.google.com/github/SantonioTheFirst/MoC_labs/blob/main/lab2/main.ipynb\" target=\"_parent\"><img src=\"https://colab.research.google.com/assets/colab-badge.svg\" alt=\"Open In Colab\"/></a>"
      ]
    },
    {
      "cell_type": "code",
      "metadata": {
        "id": "BkQHzSjP3W-0"
      },
      "source": [
        "import re\n",
        "import numpy as np\n",
        "from collections import Counter"
      ],
      "execution_count": 20,
      "outputs": []
    },
    {
      "cell_type": "code",
      "metadata": {
        "id": "rZ4WTNyO3bQP"
      },
      "source": [
        "with open('text.txt') as f:\n",
        "    text = f.read()"
      ],
      "execution_count": 21,
      "outputs": []
    },
    {
      "cell_type": "code",
      "metadata": {
        "id": "IZwP0D6U3fX8"
      },
      "source": [
        "text = ''.join(re.findall(r'[а-яієїґ]+', text.lower()))\n",
        "text = text.replace('ы', 'и')\n",
        "text = text.replace('ґ', 'г')"
      ],
      "execution_count": 22,
      "outputs": []
    },
    {
      "cell_type": "code",
      "metadata": {
        "id": "hFIjzj_m624z"
      },
      "source": [
        "def calc_freq(text, l):\n",
        "    if l == 1:\n",
        "        freq = dict(Counter(text))\n",
        "    # print(freq)\n",
        "    elif l == 2:\n",
        "        all_letters = list(set(text))\n",
        "        freq = {}\n",
        "        for i in all_letters:\n",
        "            for j in all_letters:\n",
        "                bigram = i + j\n",
        "                freq[bigram] = text.count(bigram)\n",
        "    else:\n",
        "        freq = {}\n",
        "    result = dict(sorted(freq.items(), key=lambda x: x[1], reverse=True))\n",
        "    return result"
      ],
      "execution_count": 49,
      "outputs": []
    },
    {
      "cell_type": "code",
      "metadata": {
        "id": "bcRXG02epMjL"
      },
      "source": [
        "freq = calc_freq(text, 2)"
      ],
      "execution_count": 109,
      "outputs": []
    },
    {
      "cell_type": "code",
      "metadata": {
        "id": "Gm3uKW-QvP3s"
      },
      "source": [
        "# берем мин значение и несколько значений больше\n",
        "def get_min_freq(freq, n):\n",
        "    return dict(sorted(freq.items(), key=lambda x: x[1], reverse=True)[-n:])"
      ],
      "execution_count": 52,
      "outputs": []
    },
    {
      "cell_type": "code",
      "metadata": {
        "id": "DEC44bzXjg9b"
      },
      "source": [
        "def get_text_N_L(text, N, L):\n",
        "  result = []\n",
        "  for i in range(N):\n",
        "    idx = np.random.randint(low=0, high=len(text) - L)\n",
        "    result.append(text[idx : idx + L])\n",
        "  return result"
      ],
      "execution_count": 114,
      "outputs": []
    },
    {
      "cell_type": "code",
      "metadata": {
        "id": "l9im66xbyVyO"
      },
      "source": [
        "def criteria_10(freq, sequence, n):\n",
        "    # if l == 1:\n",
        "    #     n = 3\n",
        "    # elif l == 2:\n",
        "    #     n = 100\n",
        "    A_prh = list(get_min_freq(freq, n))\n",
        "    result = True\n",
        "    # print(A_prh)\n",
        "    for l_gram in A_prh:\n",
        "        # print(l_gram)\n",
        "        if l_gram in sequence:\n",
        "            print(l_gram)\n",
        "            result = False\n",
        "            break\n",
        "    return result"
      ],
      "execution_count": 105,
      "outputs": []
    },
    {
      "cell_type": "code",
      "metadata": {
        "id": "cCelckVihno2"
      },
      "source": [
        "def criteria_11(freq, sequence, n, k):\n",
        "    # if l == 1:\n",
        "    #     n = 3\n",
        "    # elif l == 2:\n",
        "    #     n = 150\n",
        "    A_prh = set(get_min_freq(freq, n))\n",
        "    result = True\n",
        "    A_ap = []\n",
        "    for l_gram in A_prh:\n",
        "        # print(l_gram)\n",
        "        if l_gram in sequence:\n",
        "            # print('O')\n",
        "            A_ap.append(l_gram)\n",
        "    A_ap = set(A_ap)\n",
        "    # print(A_prh)\n",
        "    # print(A_ap)\n",
        "    print(A_prh)\n",
        "    print(len(A_ap))\n",
        "    if len(A_prh.intersection(A_ap)) >= k:\n",
        "        result = False\n",
        "    return result"
      ],
      "execution_count": 106,
      "outputs": []
    },
    {
      "cell_type": "code",
      "metadata": {
        "colab": {
          "base_uri": "https://localhost:8080/"
        },
        "id": "C3E-egQivt_W",
        "outputId": "c9284380-a3e7-4b80-c3fb-05c6c7a6fe27"
      },
      "source": [
        "n = 100\n",
        "criteria_10(freq, text, n)"
      ],
      "execution_count": 113,
      "outputs": [
        {
          "output_type": "execute_result",
          "data": {
            "text/plain": [
              "True"
            ]
          },
          "metadata": {},
          "execution_count": 113
        }
      ]
    },
    {
      "cell_type": "code",
      "metadata": {
        "colab": {
          "base_uri": "https://localhost:8080/"
        },
        "id": "S5r1qXhykyCR",
        "outputId": "03f2878c-b7c6-494a-ffb1-c2c19e44abb7"
      },
      "source": [
        "n = 100\n",
        "criteria_11(freq, text, n, int(n/2))"
      ],
      "execution_count": 112,
      "outputs": [
        {
          "output_type": "stream",
          "name": "stdout",
          "text": [
            "{'фм', 'юь', 'іф', 'мф', 'цз', 'фб', 'йф', 'фп', 'гц', 'цш', 'щф', 'хю', 'жф', 'рф', 'лш', 'фя', 'фк', 'йю', 'фж', 'уь', 'ьь', 'щр', 'вф', 'пж', 'чф', 'ьф', 'цч', 'щч', 'шє', 'щб', 'щц', 'цє', 'фь', 'фл', 'зю', 'фх', 'шю', 'фг', 'бф', 'єф', 'фц', 'жє', 'цх', 'лв', 'фн', 'цг', 'щщ', 'іь', 'фр', 'фю', 'фї', 'яф', 'хь', 'фш', 'єь', 'їе', 'фщ', 'лф', 'щм', 'мь', 'єи', 'фй', 'щю', 'фє', 'фв', 'гь', 'щє', 'зє', 'фс', 'юи', 'нф', 'щж', 'цф', 'вь', 'щь', 'жь', 'йь', 'єе', 'шф', 'яь', 'оь', 'цї', 'хф', 'цр', 'лж', 'фз', 'фч', 'аь', 'фф', 'хє', 'кь', 'жю', 'їь', 'гф', 'гю', 'чє', 'еь', 'щш', 'сф', 'щг'}\n",
            "0\n"
          ]
        },
        {
          "output_type": "execute_result",
          "data": {
            "text/plain": [
              "True"
            ]
          },
          "metadata": {},
          "execution_count": 112
        }
      ]
    },
    {
      "cell_type": "code",
      "metadata": {
        "id": "IXwnZ-0K9C16"
      },
      "source": [
        ""
      ],
      "execution_count": 46,
      "outputs": []
    },
    {
      "cell_type": "code",
      "metadata": {
        "id": "3b4WV11rabSj"
      },
      "source": [
        "get_text_N_L(text, 10000, 100)"
      ],
      "execution_count": null,
      "outputs": []
    },
    {
      "cell_type": "code",
      "metadata": {
        "id": "IT4e-1GLa1ZM"
      },
      "source": [
        ""
      ],
      "execution_count": 70,
      "outputs": []
    }
  ]
}