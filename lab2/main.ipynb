{
  "nbformat": 4,
  "nbformat_minor": 0,
  "metadata": {
    "colab": {
      "name": "Untitled3.ipynb",
      "provenance": [],
      "collapsed_sections": [],
      "authorship_tag": "ABX9TyMu4JJ25Ao6T+Csmrw803rM",
      "include_colab_link": true
    },
    "kernelspec": {
      "name": "python3",
      "display_name": "Python 3"
    },
    "language_info": {
      "name": "python"
    }
  },
  "cells": [
    {
      "cell_type": "markdown",
      "metadata": {
        "id": "view-in-github",
        "colab_type": "text"
      },
      "source": [
        "<a href=\"https://colab.research.google.com/github/SantonioTheFirst/MoC_labs/blob/main/lab2/main.ipynb\" target=\"_parent\"><img src=\"https://colab.research.google.com/assets/colab-badge.svg\" alt=\"Open In Colab\"/></a>"
      ]
    },
    {
      "cell_type": "code",
      "metadata": {
        "id": "BkQHzSjP3W-0"
      },
      "source": [
        "import re\n",
        "import numpy as np\n",
        "from collections import Counter"
      ],
      "execution_count": 1,
      "outputs": []
    },
    {
      "cell_type": "code",
      "metadata": {
        "id": "rZ4WTNyO3bQP"
      },
      "source": [
        "with open('text.txt') as f:\n",
        "  text = f.read()"
      ],
      "execution_count": 2,
      "outputs": []
    },
    {
      "cell_type": "code",
      "metadata": {
        "id": "IZwP0D6U3fX8"
      },
      "source": [
        "text = ''.join(re.findall(r'[а-яієїґ]+', text.lower()))\n",
        "text = text.replace('ы', 'и')\n",
        "text = text.replace('ґ', 'г')"
      ],
      "execution_count": 3,
      "outputs": []
    },
    {
      "cell_type": "code",
      "metadata": {
        "id": "Y9eTOers4snX"
      },
      "source": [
        "letters = np.where(np.array(list(text)) == 'ы')[0]"
      ],
      "execution_count": 4,
      "outputs": []
    },
    {
      "cell_type": "code",
      "metadata": {
        "id": "hFIjzj_m624z"
      },
      "source": [
        "def calc_freq(text, l):\n",
        "  if l == 1:\n",
        "    freq = dict(Counter(text))\n",
        "    # print(freq)\n",
        "  elif l == 2:\n",
        "    all_letters = list(set(text))\n",
        "    freq = {}\n",
        "    for i in all_letters:\n",
        "      for j in all_letters:\n",
        "        bigram = i + j\n",
        "        freq[bigram] = text.count(bigram)\n",
        "  else:\n",
        "    freq = {}\n",
        "  result = dict(sorted(freq.items(), key=lambda x: x[1], reverse=True))\n",
        "  return result"
      ],
      "execution_count": 43,
      "outputs": []
    },
    {
      "cell_type": "code",
      "metadata": {
        "id": "bcRXG02epMjL"
      },
      "source": [
        "calc_freq(text, 2)"
      ],
      "execution_count": null,
      "outputs": []
    },
    {
      "cell_type": "code",
      "metadata": {
        "id": "IXwnZ-0K9C16"
      },
      "source": [
        "def get_text_N_L(text, N, L):\n",
        "  result = []\n",
        "  for i in range(N):\n",
        "    idx = np.random.randint(low=0, high=len(text) - L)\n",
        "    result.append(text[idx : idx + L])\n",
        "  return result"
      ],
      "execution_count": 46,
      "outputs": []
    },
    {
      "cell_type": "code",
      "metadata": {
        "id": "3b4WV11rabSj"
      },
      "source": [
        "get_text_N_L(text, 10000, 100)"
      ],
      "execution_count": null,
      "outputs": []
    },
    {
      "cell_type": "code",
      "metadata": {
        "id": "IT4e-1GLa1ZM"
      },
      "source": [
        ""
      ],
      "execution_count": 70,
      "outputs": []
    }
  ]
}