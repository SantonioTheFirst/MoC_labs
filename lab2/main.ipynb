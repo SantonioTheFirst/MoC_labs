{
  "nbformat": 4,
  "nbformat_minor": 0,
  "metadata": {
    "colab": {
      "name": "MoC_lab2.ipynb",
      "provenance": [],
      "collapsed_sections": [],
      "authorship_tag": "ABX9TyPTtwSFexitXh+KzDJutCGe",
      "include_colab_link": true
    },
    "kernelspec": {
      "name": "python3",
      "display_name": "Python 3"
    },
    "language_info": {
      "name": "python"
    }
  },
  "cells": [
    {
      "cell_type": "markdown",
      "metadata": {
        "id": "view-in-github",
        "colab_type": "text"
      },
      "source": [
        "<a href=\"https://colab.research.google.com/github/SantonioTheFirst/MoC_labs/blob/main/lab2/main.ipynb\" target=\"_parent\"><img src=\"https://colab.research.google.com/assets/colab-badge.svg\" alt=\"Open In Colab\"/></a>"
      ]
    },
    {
      "cell_type": "code",
      "metadata": {
        "id": "BkQHzSjP3W-0"
      },
      "source": [
        "import re\n",
        "import numpy as np\n",
        "from collections import Counter, defaultdict"
      ],
      "execution_count": null,
      "outputs": []
    },
    {
      "cell_type": "code",
      "metadata": {
        "id": "rZ4WTNyO3bQP"
      },
      "source": [
        "with open('text.txt') as f:\n",
        "    text = f.read()"
      ],
      "execution_count": null,
      "outputs": []
    },
    {
      "cell_type": "code",
      "metadata": {
        "id": "IZwP0D6U3fX8"
      },
      "source": [
        "text = ''.join(re.findall(r'[а-яієїґ]+', text.lower()))\n",
        "text = text.replace('ы', 'и')\n",
        "text = text.replace('ґ', 'г')"
      ],
      "execution_count": null,
      "outputs": []
    },
    {
      "cell_type": "code",
      "metadata": {
        "id": "hFIjzj_m624z"
      },
      "source": [
        "def calc_freq(text, l):\n",
        "    if l == 1:\n",
        "        freq = dict(Counter(text))\n",
        "    # print(freq)\n",
        "    elif l == 2:\n",
        "        all_letters = list(set(text))\n",
        "        # freq = {} #defaultdict(int)\n",
        "        freq = defaultdict(int)\n",
        "        # for i in all_letters:\n",
        "        #     for j in all_letters:\n",
        "        #         bigram = i + j\n",
        "        #         freq[bigram] = text.count(bigram)\n",
        "        #         # print(bigram)\n",
        "        for i in range(len(text) - 1):\n",
        "            freq[text[i : i + 2]] += 1\n",
        "        for i in all_letters:\n",
        "            for j in all_letters:\n",
        "                bigram = i + j\n",
        "                if bigram not in freq:\n",
        "                    freq[bigram] = 0\n",
        "    else:\n",
        "        freq = {}\n",
        "    # result = dict(sorted(freq.items(), key=lambda x: x[1], reverse=True))\n",
        "    # result_t = dict(sorted(t.items(), key=lambda x: x[1], reverse=True))\n",
        "    return freq"
      ],
      "execution_count": null,
      "outputs": []
    },
    {
      "cell_type": "code",
      "metadata": {
        "id": "bcRXG02epMjL"
      },
      "source": [
        "freq = calc_freq(text, 2)"
      ],
      "execution_count": null,
      "outputs": []
    },
    {
      "cell_type": "code",
      "metadata": {
        "colab": {
          "base_uri": "https://localhost:8080/"
        },
        "id": "E0Hb4-w6Wzw3",
        "outputId": "726d3bf8-3390-4677-e8d2-5a68b67b5460"
      },
      "source": [
        "all_letters = list(set(text))\n",
        "for i in all_letters:\n",
        "    for j in all_letters:\n",
        "        bigram = i + j\n",
        "        if bigram in freq and bigram in t:\n",
        "            if freq[bigram] != t[bigram]:\n",
        "                print(bigram, freq[bigram], t[bigram])"
      ],
      "execution_count": null,
      "outputs": [
        {
          "output_type": "stream",
          "name": "stdout",
          "text": [
            "уу 150 156\n",
            "хх 44 45\n",
            "тт 176 178\n",
            "аа 270 274\n",
            "ее 14 16\n",
            "пп 4 5\n",
            "оо 349 356\n",
            "іі 97 100\n",
            "зз 118 119\n"
          ]
        }
      ]
    },
    {
      "cell_type": "code",
      "metadata": {
        "id": "Gm3uKW-QvP3s"
      },
      "source": [
        "# берем мин значение и несколько значений больше\n",
        "def get_min_freq(freq, n):\n",
        "    return dict(sorted(freq.items(), key=lambda x: x[1], reverse=True)[-n:])"
      ],
      "execution_count": null,
      "outputs": []
    },
    {
      "cell_type": "code",
      "metadata": {
        "id": "DEC44bzXjg9b"
      },
      "source": [
        "def get_text_N_L(text, N, L):\n",
        "  result = []\n",
        "  for i in range(N):\n",
        "    idx = np.random.randint(low=0, high=len(text) - L)\n",
        "    result.append(text[idx : idx + L])\n",
        "  return result"
      ],
      "execution_count": null,
      "outputs": []
    },
    {
      "cell_type": "code",
      "metadata": {
        "id": "l9im66xbyVyO"
      },
      "source": [
        "def criteria_10(freq, sequence, n):\n",
        "    # if l == 1:\n",
        "    #     n = 3\n",
        "    # elif l == 2:\n",
        "    #     n = 100\n",
        "    A_prh = list(get_min_freq(freq, n))\n",
        "    result = True\n",
        "    # print(A_prh)\n",
        "    for l_gram in A_prh:\n",
        "        # print(l_gram)\n",
        "        if l_gram in sequence:\n",
        "            # print(l_gram)\n",
        "            result = False\n",
        "            break\n",
        "    return result"
      ],
      "execution_count": null,
      "outputs": []
    },
    {
      "cell_type": "code",
      "metadata": {
        "id": "cCelckVihno2"
      },
      "source": [
        "def criteria_11(freq, sequence, n, k):\n",
        "    # if l == 1:\n",
        "    #     n = 3\n",
        "    # elif l == 2:\n",
        "    #     n = 150\n",
        "    A_prh = set(get_min_freq(freq, n))\n",
        "    result = True\n",
        "    A_ap = []\n",
        "    for l_gram in A_prh:\n",
        "        # print(l_gram)\n",
        "        if l_gram in sequence:\n",
        "            # print('O')\n",
        "            A_ap.append(l_gram)\n",
        "    A_ap = set(A_ap)\n",
        "    # print(A_prh)\n",
        "    # print(A_ap)\n",
        "    # print(A_prh)\n",
        "    # print(len(A_ap))\n",
        "    if len(A_prh.intersection(A_ap)) >= k:\n",
        "        result = False\n",
        "    return result"
      ],
      "execution_count": null,
      "outputs": []
    },
    {
      "cell_type": "code",
      "metadata": {
        "id": "6AHmnjtTrgzM"
      },
      "source": [
        "def criteria_12(freq, sequence, n):\n",
        "    A_prh = set(get_min_freq(freq, n))\n",
        "    result = True\n",
        "    seq_freq = {}\n",
        "    for l_gram in A_prh:\n",
        "        seq_freq[l_gram] = sequence.count(l_gram)\n",
        "        if seq_freq[l_gram] > freq[l_gram]:\n",
        "            result = False\n",
        "            break\n",
        "    return result"
      ],
      "execution_count": null,
      "outputs": []
    },
    {
      "cell_type": "code",
      "metadata": {
        "id": "jS8MgOdZ36Rs"
      },
      "source": [
        "def criteria_13(freq, sequence, n):\n",
        "    A_prh = set(get_min_freq(freq, n))\n",
        "    result = True\n",
        "    seq_freq = {}\n",
        "    Fp = 0\n",
        "    Kp = 0\n",
        "    for l_gram in A_prh:\n",
        "        Fp += sequence.count(l_gram)\n",
        "        Kp += freq[l_gram]\n",
        "    if Fp > Kp:\n",
        "        result = False\n",
        "    return result"
      ],
      "execution_count": null,
      "outputs": []
    },
    {
      "cell_type": "code",
      "metadata": {
        "id": "C-ZJAAq_5raR"
      },
      "source": [
        "def criteria_1n(freq, sequence, n, k):\n",
        "    A_prh = list(get_min_freq(freq, n))\n",
        "    result = [True] * 4\n",
        "    A_ap = []\n",
        "    seq_freq = {}\n",
        "    Fp = 0\n",
        "    Kp = 0\n",
        "    for l_gram in A_prh:\n",
        "        if l_gram in sequence and result[0] == True:\n",
        "            result[0] = False\n",
        "        if l_gram in sequence:\n",
        "            A_ap.append(l_gram)\n",
        "            seq_freq[l_gram] = sequence.count(l_gram)\n",
        "            if seq_freq[l_gram] > freq[l_gram] and result[2] == True:\n",
        "                result[2] = False\n",
        "            Fp += seq_freq[l_gram]\n",
        "            Kp += freq[l_gram]\n",
        "    A_ap = set(A_ap)\n",
        "    if len(A_ap.intersection(A_prh)) >= k:\n",
        "        result[1] = False\n",
        "    if Fp > Kp:\n",
        "        result[3] = False\n",
        "    return result"
      ],
      "execution_count": null,
      "outputs": []
    },
    {
      "cell_type": "code",
      "metadata": {
        "id": "8c3owmuSjUlK"
      },
      "source": [
        "def calc_entropy(freq, l):\n",
        "    H_l = 0\n",
        "    count_of_bigrams = np.sum([value for value in freq.values()])#len([key for key in freq.keys() if freq[key] != 0])\n",
        "    for bigram in freq:\n",
        "        if freq[bigram] == 0:\n",
        "            continue\n",
        "        probability = freq[bigram] / count_of_bigrams\n",
        "        # print(bigram, probability)\n",
        "        H_l -= probability * np.log2(probability)\n",
        "    H_l *= (1 / l)\n",
        "    return H_l"
      ],
      "execution_count": null,
      "outputs": []
    },
    {
      "cell_type": "code",
      "metadata": {
        "id": "eFDSx_D2OT0d"
      },
      "source": [
        "def entropy_criterion(freq, seq, l, k_H):\n",
        "    H_l = calc_entropy(freq, l)\n",
        "    H_k = calc_entropy(calc_freq(seq, l), l)\n",
        "    if np.abs(H_l - H_k) > k_H:\n",
        "        result = False\n",
        "    else:\n",
        "        result = True\n",
        "    return result"
      ],
      "execution_count": null,
      "outputs": []
    },
    {
      "cell_type": "code",
      "metadata": {
        "colab": {
          "base_uri": "https://localhost:8080/"
        },
        "id": "C3E-egQivt_W",
        "outputId": "907dfa5d-e8da-475c-984a-79d0487871e2"
      },
      "source": [
        "n = 100\n",
        "criteria_10(freq, text, n)"
      ],
      "execution_count": null,
      "outputs": [
        {
          "output_type": "execute_result",
          "data": {
            "text/plain": [
              "True"
            ]
          },
          "metadata": {},
          "execution_count": 34
        }
      ]
    },
    {
      "cell_type": "code",
      "metadata": {
        "colab": {
          "base_uri": "https://localhost:8080/"
        },
        "id": "S5r1qXhykyCR",
        "outputId": "8d5ff1be-fe31-4ae7-f0c4-4edd492449bd"
      },
      "source": [
        "n = 100\n",
        "criteria_11(freq, text, n, int(n/2))"
      ],
      "execution_count": null,
      "outputs": [
        {
          "output_type": "execute_result",
          "data": {
            "text/plain": [
              "True"
            ]
          },
          "metadata": {},
          "execution_count": 35
        }
      ]
    },
    {
      "cell_type": "code",
      "metadata": {
        "colab": {
          "base_uri": "https://localhost:8080/"
        },
        "id": "fch-hFC305cG",
        "outputId": "003bb176-30b8-4894-8cc0-4d62c2861d48"
      },
      "source": [
        "n = 100\n",
        "criteria_12(freq, text, n)"
      ],
      "execution_count": null,
      "outputs": [
        {
          "output_type": "execute_result",
          "data": {
            "text/plain": [
              "True"
            ]
          },
          "metadata": {},
          "execution_count": 36
        }
      ]
    },
    {
      "cell_type": "code",
      "metadata": {
        "colab": {
          "base_uri": "https://localhost:8080/"
        },
        "id": "FvYszgw543JJ",
        "outputId": "c339efd9-b817-492e-ea6f-e4c4d4be4f1e"
      },
      "source": [
        "n = 100\n",
        "criteria_13(freq, text, n)"
      ],
      "execution_count": null,
      "outputs": [
        {
          "output_type": "execute_result",
          "data": {
            "text/plain": [
              "True"
            ]
          },
          "metadata": {},
          "execution_count": 37
        }
      ]
    },
    {
      "cell_type": "code",
      "metadata": {
        "colab": {
          "base_uri": "https://localhost:8080/"
        },
        "id": "5H1laLFk7hA4",
        "outputId": "a8667c50-0b94-4e20-c464-4fb494cfd276"
      },
      "source": [
        "n = 100\n",
        "criteria_1n(freq, text, n, int(n / 2))"
      ],
      "execution_count": null,
      "outputs": [
        {
          "output_type": "execute_result",
          "data": {
            "text/plain": [
              "[True, True, True, True]"
            ]
          },
          "metadata": {},
          "execution_count": 38
        }
      ]
    },
    {
      "cell_type": "code",
      "metadata": {
        "colab": {
          "base_uri": "https://localhost:8080/"
        },
        "id": "HN_oYyf4PaYy",
        "outputId": "94013df5-610e-4f70-cffe-22fe9f1ac284"
      },
      "source": [
        "entropy_criterion(freq, text, 2, 0.5)"
      ],
      "execution_count": null,
      "outputs": [
        {
          "output_type": "execute_result",
          "data": {
            "text/plain": [
              "True"
            ]
          },
          "metadata": {},
          "execution_count": 51
        }
      ]
    },
    {
      "cell_type": "code",
      "metadata": {
        "colab": {
          "base_uri": "https://localhost:8080/"
        },
        "id": "iW1z0i7OPdz3",
        "outputId": "2e8b5d52-18a4-4fa6-a7b7-3c519f8addac"
      },
      "source": [
        "len(text)"
      ],
      "execution_count": null,
      "outputs": [
        {
          "output_type": "execute_result",
          "data": {
            "text/plain": [
              "436710"
            ]
          },
          "metadata": {},
          "execution_count": 20
        }
      ]
    },
    {
      "cell_type": "code",
      "metadata": {
        "id": "3b4WV11rabSj"
      },
      "source": [
        "get_text_N_L(text, 10000, 100)"
      ],
      "execution_count": null,
      "outputs": []
    }
  ]
}