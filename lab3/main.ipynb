{
  "nbformat": 4,
  "nbformat_minor": 0,
  "metadata": {
    "colab": {
      "name": "MOC3.ipynb",
      "provenance": [],
      "collapsed_sections": [],
      "authorship_tag": "ABX9TyPU6VbkxkR1tIB9DDmTuy0Z",
      "include_colab_link": true
    },
    "kernelspec": {
      "name": "python3",
      "display_name": "Python 3"
    },
    "language_info": {
      "name": "python"
    }
  },
  "cells": [
    {
      "cell_type": "markdown",
      "metadata": {
        "id": "view-in-github",
        "colab_type": "text"
      },
      "source": [
        "<a href=\"https://colab.research.google.com/github/SantonioTheFirst/MoC_labs/blob/main/lab3/main.ipynb\" target=\"_parent\"><img src=\"https://colab.research.google.com/assets/colab-badge.svg\" alt=\"Open In Colab\"/></a>"
      ]
    },
    {
      "cell_type": "code",
      "source": [
        "!pip install -q gmpy2"
      ],
      "metadata": {
        "colab": {
          "base_uri": "https://localhost:8080/"
        },
        "id": "zA7lisKHPUR_",
        "outputId": "d6c57339-d325-4b69-8485-832dfe5d135d"
      },
      "execution_count": 1,
      "outputs": [
        {
          "output_type": "stream",
          "name": "stdout",
          "text": [
            "\u001b[?25l\r\u001b[K     |                                | 10 kB 24.6 MB/s eta 0:00:01\r\u001b[K     |▏                               | 20 kB 32.0 MB/s eta 0:00:01\r\u001b[K     |▎                               | 30 kB 29.5 MB/s eta 0:00:01\r\u001b[K     |▍                               | 40 kB 30.1 MB/s eta 0:00:01\r\u001b[K     |▌                               | 51 kB 8.5 MB/s eta 0:00:01\r\u001b[K     |▋                               | 61 kB 9.0 MB/s eta 0:00:01\r\u001b[K     |▋                               | 71 kB 7.2 MB/s eta 0:00:01\r\u001b[K     |▊                               | 81 kB 8.0 MB/s eta 0:00:01\r\u001b[K     |▉                               | 92 kB 8.4 MB/s eta 0:00:01\r\u001b[K     |█                               | 102 kB 7.4 MB/s eta 0:00:01\r\u001b[K     |█                               | 112 kB 7.4 MB/s eta 0:00:01\r\u001b[K     |█▏                              | 122 kB 7.4 MB/s eta 0:00:01\r\u001b[K     |█▎                              | 133 kB 7.4 MB/s eta 0:00:01\r\u001b[K     |█▎                              | 143 kB 7.4 MB/s eta 0:00:01\r\u001b[K     |█▍                              | 153 kB 7.4 MB/s eta 0:00:01\r\u001b[K     |█▌                              | 163 kB 7.4 MB/s eta 0:00:01\r\u001b[K     |█▋                              | 174 kB 7.4 MB/s eta 0:00:01\r\u001b[K     |█▊                              | 184 kB 7.4 MB/s eta 0:00:01\r\u001b[K     |█▉                              | 194 kB 7.4 MB/s eta 0:00:01\r\u001b[K     |██                              | 204 kB 7.4 MB/s eta 0:00:01\r\u001b[K     |██                              | 215 kB 7.4 MB/s eta 0:00:01\r\u001b[K     |██                              | 225 kB 7.4 MB/s eta 0:00:01\r\u001b[K     |██▏                             | 235 kB 7.4 MB/s eta 0:00:01\r\u001b[K     |██▎                             | 245 kB 7.4 MB/s eta 0:00:01\r\u001b[K     |██▍                             | 256 kB 7.4 MB/s eta 0:00:01\r\u001b[K     |██▌                             | 266 kB 7.4 MB/s eta 0:00:01\r\u001b[K     |██▋                             | 276 kB 7.4 MB/s eta 0:00:01\r\u001b[K     |██▋                             | 286 kB 7.4 MB/s eta 0:00:01\r\u001b[K     |██▊                             | 296 kB 7.4 MB/s eta 0:00:01\r\u001b[K     |██▉                             | 307 kB 7.4 MB/s eta 0:00:01\r\u001b[K     |███                             | 317 kB 7.4 MB/s eta 0:00:01\r\u001b[K     |███                             | 327 kB 7.4 MB/s eta 0:00:01\r\u001b[K     |███▏                            | 337 kB 7.4 MB/s eta 0:00:01\r\u001b[K     |███▏                            | 348 kB 7.4 MB/s eta 0:00:01\r\u001b[K     |███▎                            | 358 kB 7.4 MB/s eta 0:00:01\r\u001b[K     |███▍                            | 368 kB 7.4 MB/s eta 0:00:01\r\u001b[K     |███▌                            | 378 kB 7.4 MB/s eta 0:00:01\r\u001b[K     |███▋                            | 389 kB 7.4 MB/s eta 0:00:01\r\u001b[K     |███▊                            | 399 kB 7.4 MB/s eta 0:00:01\r\u001b[K     |███▉                            | 409 kB 7.4 MB/s eta 0:00:01\r\u001b[K     |███▉                            | 419 kB 7.4 MB/s eta 0:00:01\r\u001b[K     |████                            | 430 kB 7.4 MB/s eta 0:00:01\r\u001b[K     |████                            | 440 kB 7.4 MB/s eta 0:00:01\r\u001b[K     |████▏                           | 450 kB 7.4 MB/s eta 0:00:01\r\u001b[K     |████▎                           | 460 kB 7.4 MB/s eta 0:00:01\r\u001b[K     |████▍                           | 471 kB 7.4 MB/s eta 0:00:01\r\u001b[K     |████▌                           | 481 kB 7.4 MB/s eta 0:00:01\r\u001b[K     |████▌                           | 491 kB 7.4 MB/s eta 0:00:01\r\u001b[K     |████▋                           | 501 kB 7.4 MB/s eta 0:00:01\r\u001b[K     |████▊                           | 512 kB 7.4 MB/s eta 0:00:01\r\u001b[K     |████▉                           | 522 kB 7.4 MB/s eta 0:00:01\r\u001b[K     |█████                           | 532 kB 7.4 MB/s eta 0:00:01\r\u001b[K     |█████                           | 542 kB 7.4 MB/s eta 0:00:01\r\u001b[K     |█████▏                          | 552 kB 7.4 MB/s eta 0:00:01\r\u001b[K     |█████▏                          | 563 kB 7.4 MB/s eta 0:00:01\r\u001b[K     |█████▎                          | 573 kB 7.4 MB/s eta 0:00:01\r\u001b[K     |█████▍                          | 583 kB 7.4 MB/s eta 0:00:01\r\u001b[K     |█████▌                          | 593 kB 7.4 MB/s eta 0:00:01\r\u001b[K     |█████▋                          | 604 kB 7.4 MB/s eta 0:00:01\r\u001b[K     |█████▊                          | 614 kB 7.4 MB/s eta 0:00:01\r\u001b[K     |█████▊                          | 624 kB 7.4 MB/s eta 0:00:01\r\u001b[K     |█████▉                          | 634 kB 7.4 MB/s eta 0:00:01\r\u001b[K     |██████                          | 645 kB 7.4 MB/s eta 0:00:01\r\u001b[K     |██████                          | 655 kB 7.4 MB/s eta 0:00:01\r\u001b[K     |██████▏                         | 665 kB 7.4 MB/s eta 0:00:01\r\u001b[K     |██████▎                         | 675 kB 7.4 MB/s eta 0:00:01\r\u001b[K     |██████▍                         | 686 kB 7.4 MB/s eta 0:00:01\r\u001b[K     |██████▍                         | 696 kB 7.4 MB/s eta 0:00:01\r\u001b[K     |██████▌                         | 706 kB 7.4 MB/s eta 0:00:01\r\u001b[K     |██████▋                         | 716 kB 7.4 MB/s eta 0:00:01\r\u001b[K     |██████▊                         | 727 kB 7.4 MB/s eta 0:00:01\r\u001b[K     |██████▉                         | 737 kB 7.4 MB/s eta 0:00:01\r\u001b[K     |███████                         | 747 kB 7.4 MB/s eta 0:00:01\r\u001b[K     |███████                         | 757 kB 7.4 MB/s eta 0:00:01\r\u001b[K     |███████                         | 768 kB 7.4 MB/s eta 0:00:01\r\u001b[K     |███████▏                        | 778 kB 7.4 MB/s eta 0:00:01\r\u001b[K     |███████▎                        | 788 kB 7.4 MB/s eta 0:00:01\r\u001b[K     |███████▍                        | 798 kB 7.4 MB/s eta 0:00:01\r\u001b[K     |███████▌                        | 808 kB 7.4 MB/s eta 0:00:01\r\u001b[K     |███████▋                        | 819 kB 7.4 MB/s eta 0:00:01\r\u001b[K     |███████▊                        | 829 kB 7.4 MB/s eta 0:00:01\r\u001b[K     |███████▊                        | 839 kB 7.4 MB/s eta 0:00:01\r\u001b[K     |███████▉                        | 849 kB 7.4 MB/s eta 0:00:01\r\u001b[K     |████████                        | 860 kB 7.4 MB/s eta 0:00:01\r\u001b[K     |████████                        | 870 kB 7.4 MB/s eta 0:00:01\r\u001b[K     |████████▏                       | 880 kB 7.4 MB/s eta 0:00:01\r\u001b[K     |████████▎                       | 890 kB 7.4 MB/s eta 0:00:01\r\u001b[K     |████████▎                       | 901 kB 7.4 MB/s eta 0:00:01\r\u001b[K     |████████▍                       | 911 kB 7.4 MB/s eta 0:00:01\r\u001b[K     |████████▌                       | 921 kB 7.4 MB/s eta 0:00:01\r\u001b[K     |████████▋                       | 931 kB 7.4 MB/s eta 0:00:01\r\u001b[K     |████████▊                       | 942 kB 7.4 MB/s eta 0:00:01\r\u001b[K     |████████▉                       | 952 kB 7.4 MB/s eta 0:00:01\r\u001b[K     |█████████                       | 962 kB 7.4 MB/s eta 0:00:01\r\u001b[K     |█████████                       | 972 kB 7.4 MB/s eta 0:00:01\r\u001b[K     |█████████                       | 983 kB 7.4 MB/s eta 0:00:01\r\u001b[K     |█████████▏                      | 993 kB 7.4 MB/s eta 0:00:01\r\u001b[K     |█████████▎                      | 1.0 MB 7.4 MB/s eta 0:00:01\r\u001b[K     |█████████▍                      | 1.0 MB 7.4 MB/s eta 0:00:01\r\u001b[K     |█████████▌                      | 1.0 MB 7.4 MB/s eta 0:00:01\r\u001b[K     |█████████▋                      | 1.0 MB 7.4 MB/s eta 0:00:01\r\u001b[K     |█████████▋                      | 1.0 MB 7.4 MB/s eta 0:00:01\r\u001b[K     |█████████▊                      | 1.1 MB 7.4 MB/s eta 0:00:01\r\u001b[K     |█████████▉                      | 1.1 MB 7.4 MB/s eta 0:00:01\r\u001b[K     |██████████                      | 1.1 MB 7.4 MB/s eta 0:00:01\r\u001b[K     |██████████                      | 1.1 MB 7.4 MB/s eta 0:00:01\r\u001b[K     |██████████▏                     | 1.1 MB 7.4 MB/s eta 0:00:01\r\u001b[K     |██████████▎                     | 1.1 MB 7.4 MB/s eta 0:00:01\r\u001b[K     |██████████▎                     | 1.1 MB 7.4 MB/s eta 0:00:01\r\u001b[K     |██████████▍                     | 1.1 MB 7.4 MB/s eta 0:00:01\r\u001b[K     |██████████▌                     | 1.1 MB 7.4 MB/s eta 0:00:01\r\u001b[K     |██████████▋                     | 1.1 MB 7.4 MB/s eta 0:00:01\r\u001b[K     |██████████▊                     | 1.2 MB 7.4 MB/s eta 0:00:01\r\u001b[K     |██████████▉                     | 1.2 MB 7.4 MB/s eta 0:00:01\r\u001b[K     |██████████▉                     | 1.2 MB 7.4 MB/s eta 0:00:01\r\u001b[K     |███████████                     | 1.2 MB 7.4 MB/s eta 0:00:01\r\u001b[K     |███████████                     | 1.2 MB 7.4 MB/s eta 0:00:01\r\u001b[K     |███████████▏                    | 1.2 MB 7.4 MB/s eta 0:00:01\r\u001b[K     |███████████▎                    | 1.2 MB 7.4 MB/s eta 0:00:01\r\u001b[K     |███████████▍                    | 1.2 MB 7.4 MB/s eta 0:00:01\r\u001b[K     |███████████▌                    | 1.2 MB 7.4 MB/s eta 0:00:01\r\u001b[K     |███████████▌                    | 1.2 MB 7.4 MB/s eta 0:00:01\r\u001b[K     |███████████▋                    | 1.3 MB 7.4 MB/s eta 0:00:01\r\u001b[K     |███████████▊                    | 1.3 MB 7.4 MB/s eta 0:00:01\r\u001b[K     |███████████▉                    | 1.3 MB 7.4 MB/s eta 0:00:01\r\u001b[K     |████████████                    | 1.3 MB 7.4 MB/s eta 0:00:01\r\u001b[K     |████████████                    | 1.3 MB 7.4 MB/s eta 0:00:01\r\u001b[K     |████████████▏                   | 1.3 MB 7.4 MB/s eta 0:00:01\r\u001b[K     |████████████▏                   | 1.3 MB 7.4 MB/s eta 0:00:01\r\u001b[K     |████████████▎                   | 1.3 MB 7.4 MB/s eta 0:00:01\r\u001b[K     |████████████▍                   | 1.3 MB 7.4 MB/s eta 0:00:01\r\u001b[K     |████████████▌                   | 1.4 MB 7.4 MB/s eta 0:00:01\r\u001b[K     |████████████▋                   | 1.4 MB 7.4 MB/s eta 0:00:01\r\u001b[K     |████████████▊                   | 1.4 MB 7.4 MB/s eta 0:00:01\r\u001b[K     |████████████▉                   | 1.4 MB 7.4 MB/s eta 0:00:01\r\u001b[K     |████████████▉                   | 1.4 MB 7.4 MB/s eta 0:00:01\r\u001b[K     |█████████████                   | 1.4 MB 7.4 MB/s eta 0:00:01\r\u001b[K     |█████████████                   | 1.4 MB 7.4 MB/s eta 0:00:01\r\u001b[K     |█████████████▏                  | 1.4 MB 7.4 MB/s eta 0:00:01\r\u001b[K     |█████████████▎                  | 1.4 MB 7.4 MB/s eta 0:00:01\r\u001b[K     |█████████████▍                  | 1.4 MB 7.4 MB/s eta 0:00:01\r\u001b[K     |█████████████▍                  | 1.5 MB 7.4 MB/s eta 0:00:01\r\u001b[K     |█████████████▌                  | 1.5 MB 7.4 MB/s eta 0:00:01\r\u001b[K     |█████████████▋                  | 1.5 MB 7.4 MB/s eta 0:00:01\r\u001b[K     |█████████████▊                  | 1.5 MB 7.4 MB/s eta 0:00:01\r\u001b[K     |█████████████▉                  | 1.5 MB 7.4 MB/s eta 0:00:01\r\u001b[K     |██████████████                  | 1.5 MB 7.4 MB/s eta 0:00:01\r\u001b[K     |██████████████                  | 1.5 MB 7.4 MB/s eta 0:00:01\r\u001b[K     |██████████████                  | 1.5 MB 7.4 MB/s eta 0:00:01\r\u001b[K     |██████████████▏                 | 1.5 MB 7.4 MB/s eta 0:00:01\r\u001b[K     |██████████████▎                 | 1.5 MB 7.4 MB/s eta 0:00:01\r\u001b[K     |██████████████▍                 | 1.6 MB 7.4 MB/s eta 0:00:01\r\u001b[K     |██████████████▌                 | 1.6 MB 7.4 MB/s eta 0:00:01\r\u001b[K     |██████████████▋                 | 1.6 MB 7.4 MB/s eta 0:00:01\r\u001b[K     |██████████████▊                 | 1.6 MB 7.4 MB/s eta 0:00:01\r\u001b[K     |██████████████▊                 | 1.6 MB 7.4 MB/s eta 0:00:01\r\u001b[K     |██████████████▉                 | 1.6 MB 7.4 MB/s eta 0:00:01\r\u001b[K     |███████████████                 | 1.6 MB 7.4 MB/s eta 0:00:01\r\u001b[K     |███████████████                 | 1.6 MB 7.4 MB/s eta 0:00:01\r\u001b[K     |███████████████▏                | 1.6 MB 7.4 MB/s eta 0:00:01\r\u001b[K     |███████████████▎                | 1.6 MB 7.4 MB/s eta 0:00:01\r\u001b[K     |███████████████▍                | 1.7 MB 7.4 MB/s eta 0:00:01\r\u001b[K     |███████████████▍                | 1.7 MB 7.4 MB/s eta 0:00:01\r\u001b[K     |███████████████▌                | 1.7 MB 7.4 MB/s eta 0:00:01\r\u001b[K     |███████████████▋                | 1.7 MB 7.4 MB/s eta 0:00:01\r\u001b[K     |███████████████▊                | 1.7 MB 7.4 MB/s eta 0:00:01\r\u001b[K     |███████████████▉                | 1.7 MB 7.4 MB/s eta 0:00:01\r\u001b[K     |████████████████                | 1.7 MB 7.4 MB/s eta 0:00:01\r\u001b[K     |████████████████                | 1.7 MB 7.4 MB/s eta 0:00:01\r\u001b[K     |████████████████                | 1.7 MB 7.4 MB/s eta 0:00:01\r\u001b[K     |████████████████▏               | 1.8 MB 7.4 MB/s eta 0:00:01\r\u001b[K     |████████████████▎               | 1.8 MB 7.4 MB/s eta 0:00:01\r\u001b[K     |████████████████▍               | 1.8 MB 7.4 MB/s eta 0:00:01\r\u001b[K     |████████████████▌               | 1.8 MB 7.4 MB/s eta 0:00:01\r\u001b[K     |████████████████▋               | 1.8 MB 7.4 MB/s eta 0:00:01\r\u001b[K     |████████████████▋               | 1.8 MB 7.4 MB/s eta 0:00:01\r\u001b[K     |████████████████▊               | 1.8 MB 7.4 MB/s eta 0:00:01\r\u001b[K     |████████████████▉               | 1.8 MB 7.4 MB/s eta 0:00:01\r\u001b[K     |█████████████████               | 1.8 MB 7.4 MB/s eta 0:00:01\r\u001b[K     |█████████████████               | 1.8 MB 7.4 MB/s eta 0:00:01\r\u001b[K     |█████████████████▏              | 1.9 MB 7.4 MB/s eta 0:00:01\r\u001b[K     |█████████████████▎              | 1.9 MB 7.4 MB/s eta 0:00:01\r\u001b[K     |█████████████████▎              | 1.9 MB 7.4 MB/s eta 0:00:01\r\u001b[K     |█████████████████▍              | 1.9 MB 7.4 MB/s eta 0:00:01\r\u001b[K     |█████████████████▌              | 1.9 MB 7.4 MB/s eta 0:00:01\r\u001b[K     |█████████████████▋              | 1.9 MB 7.4 MB/s eta 0:00:01\r\u001b[K     |█████████████████▊              | 1.9 MB 7.4 MB/s eta 0:00:01\r\u001b[K     |█████████████████▉              | 1.9 MB 7.4 MB/s eta 0:00:01\r\u001b[K     |██████████████████              | 1.9 MB 7.4 MB/s eta 0:00:01\r\u001b[K     |██████████████████              | 1.9 MB 7.4 MB/s eta 0:00:01\r\u001b[K     |██████████████████              | 2.0 MB 7.4 MB/s eta 0:00:01\r\u001b[K     |██████████████████▏             | 2.0 MB 7.4 MB/s eta 0:00:01\r\u001b[K     |██████████████████▎             | 2.0 MB 7.4 MB/s eta 0:00:01\r\u001b[K     |██████████████████▍             | 2.0 MB 7.4 MB/s eta 0:00:01\r\u001b[K     |██████████████████▌             | 2.0 MB 7.4 MB/s eta 0:00:01\r\u001b[K     |██████████████████▌             | 2.0 MB 7.4 MB/s eta 0:00:01\r\u001b[K     |██████████████████▋             | 2.0 MB 7.4 MB/s eta 0:00:01\r\u001b[K     |██████████████████▊             | 2.0 MB 7.4 MB/s eta 0:00:01\r\u001b[K     |██████████████████▉             | 2.0 MB 7.4 MB/s eta 0:00:01\r\u001b[K     |███████████████████             | 2.0 MB 7.4 MB/s eta 0:00:01\r\u001b[K     |███████████████████             | 2.1 MB 7.4 MB/s eta 0:00:01\r\u001b[K     |███████████████████▏            | 2.1 MB 7.4 MB/s eta 0:00:01\r\u001b[K     |███████████████████▏            | 2.1 MB 7.4 MB/s eta 0:00:01\r\u001b[K     |███████████████████▎            | 2.1 MB 7.4 MB/s eta 0:00:01\r\u001b[K     |███████████████████▍            | 2.1 MB 7.4 MB/s eta 0:00:01\r\u001b[K     |███████████████████▌            | 2.1 MB 7.4 MB/s eta 0:00:01\r\u001b[K     |███████████████████▋            | 2.1 MB 7.4 MB/s eta 0:00:01\r\u001b[K     |███████████████████▊            | 2.1 MB 7.4 MB/s eta 0:00:01\r\u001b[K     |███████████████████▉            | 2.1 MB 7.4 MB/s eta 0:00:01\r\u001b[K     |███████████████████▉            | 2.2 MB 7.4 MB/s eta 0:00:01\r\u001b[K     |████████████████████            | 2.2 MB 7.4 MB/s eta 0:00:01\r\u001b[K     |████████████████████            | 2.2 MB 7.4 MB/s eta 0:00:01\r\u001b[K     |████████████████████▏           | 2.2 MB 7.4 MB/s eta 0:00:01\r\u001b[K     |████████████████████▎           | 2.2 MB 7.4 MB/s eta 0:00:01\r\u001b[K     |████████████████████▍           | 2.2 MB 7.4 MB/s eta 0:00:01\r\u001b[K     |████████████████████▌           | 2.2 MB 7.4 MB/s eta 0:00:01\r\u001b[K     |████████████████████▌           | 2.2 MB 7.4 MB/s eta 0:00:01\r\u001b[K     |████████████████████▋           | 2.2 MB 7.4 MB/s eta 0:00:01\r\u001b[K     |████████████████████▊           | 2.2 MB 7.4 MB/s eta 0:00:01\r\u001b[K     |████████████████████▉           | 2.3 MB 7.4 MB/s eta 0:00:01\r\u001b[K     |█████████████████████           | 2.3 MB 7.4 MB/s eta 0:00:01\r\u001b[K     |█████████████████████           | 2.3 MB 7.4 MB/s eta 0:00:01\r\u001b[K     |█████████████████████           | 2.3 MB 7.4 MB/s eta 0:00:01\r\u001b[K     |█████████████████████▏          | 2.3 MB 7.4 MB/s eta 0:00:01\r\u001b[K     |█████████████████████▎          | 2.3 MB 7.4 MB/s eta 0:00:01\r\u001b[K     |█████████████████████▍          | 2.3 MB 7.4 MB/s eta 0:00:01\r\u001b[K     |█████████████████████▌          | 2.3 MB 7.4 MB/s eta 0:00:01\r\u001b[K     |█████████████████████▋          | 2.3 MB 7.4 MB/s eta 0:00:01\r\u001b[K     |█████████████████████▊          | 2.3 MB 7.4 MB/s eta 0:00:01\r\u001b[K     |█████████████████████▊          | 2.4 MB 7.4 MB/s eta 0:00:01\r\u001b[K     |█████████████████████▉          | 2.4 MB 7.4 MB/s eta 0:00:01\r\u001b[K     |██████████████████████          | 2.4 MB 7.4 MB/s eta 0:00:01\r\u001b[K     |██████████████████████          | 2.4 MB 7.4 MB/s eta 0:00:01\r\u001b[K     |██████████████████████▏         | 2.4 MB 7.4 MB/s eta 0:00:01\r\u001b[K     |██████████████████████▎         | 2.4 MB 7.4 MB/s eta 0:00:01\r\u001b[K     |██████████████████████▍         | 2.4 MB 7.4 MB/s eta 0:00:01\r\u001b[K     |██████████████████████▍         | 2.4 MB 7.4 MB/s eta 0:00:01\r\u001b[K     |██████████████████████▌         | 2.4 MB 7.4 MB/s eta 0:00:01\r\u001b[K     |██████████████████████▋         | 2.4 MB 7.4 MB/s eta 0:00:01\r\u001b[K     |██████████████████████▊         | 2.5 MB 7.4 MB/s eta 0:00:01\r\u001b[K     |██████████████████████▉         | 2.5 MB 7.4 MB/s eta 0:00:01\r\u001b[K     |███████████████████████         | 2.5 MB 7.4 MB/s eta 0:00:01\r\u001b[K     |███████████████████████         | 2.5 MB 7.4 MB/s eta 0:00:01\r\u001b[K     |███████████████████████         | 2.5 MB 7.4 MB/s eta 0:00:01\r\u001b[K     |███████████████████████▏        | 2.5 MB 7.4 MB/s eta 0:00:01\r\u001b[K     |███████████████████████▎        | 2.5 MB 7.4 MB/s eta 0:00:01\r\u001b[K     |███████████████████████▍        | 2.5 MB 7.4 MB/s eta 0:00:01\r\u001b[K     |███████████████████████▌        | 2.5 MB 7.4 MB/s eta 0:00:01\r\u001b[K     |███████████████████████▋        | 2.5 MB 7.4 MB/s eta 0:00:01\r\u001b[K     |███████████████████████▋        | 2.6 MB 7.4 MB/s eta 0:00:01\r\u001b[K     |███████████████████████▊        | 2.6 MB 7.4 MB/s eta 0:00:01\r\u001b[K     |███████████████████████▉        | 2.6 MB 7.4 MB/s eta 0:00:01\r\u001b[K     |████████████████████████        | 2.6 MB 7.4 MB/s eta 0:00:01\r\u001b[K     |████████████████████████        | 2.6 MB 7.4 MB/s eta 0:00:01\r\u001b[K     |████████████████████████▏       | 2.6 MB 7.4 MB/s eta 0:00:01\r\u001b[K     |████████████████████████▎       | 2.6 MB 7.4 MB/s eta 0:00:01\r\u001b[K     |████████████████████████▎       | 2.6 MB 7.4 MB/s eta 0:00:01\r\u001b[K     |████████████████████████▍       | 2.6 MB 7.4 MB/s eta 0:00:01\r\u001b[K     |████████████████████████▌       | 2.7 MB 7.4 MB/s eta 0:00:01\r\u001b[K     |████████████████████████▋       | 2.7 MB 7.4 MB/s eta 0:00:01\r\u001b[K     |████████████████████████▊       | 2.7 MB 7.4 MB/s eta 0:00:01\r\u001b[K     |████████████████████████▉       | 2.7 MB 7.4 MB/s eta 0:00:01\r\u001b[K     |█████████████████████████       | 2.7 MB 7.4 MB/s eta 0:00:01\r\u001b[K     |█████████████████████████       | 2.7 MB 7.4 MB/s eta 0:00:01\r\u001b[K     |█████████████████████████       | 2.7 MB 7.4 MB/s eta 0:00:01\r\u001b[K     |█████████████████████████▏      | 2.7 MB 7.4 MB/s eta 0:00:01\r\u001b[K     |█████████████████████████▎      | 2.7 MB 7.4 MB/s eta 0:00:01\r\u001b[K     |█████████████████████████▍      | 2.7 MB 7.4 MB/s eta 0:00:01\r\u001b[K     |█████████████████████████▌      | 2.8 MB 7.4 MB/s eta 0:00:01\r\u001b[K     |█████████████████████████▋      | 2.8 MB 7.4 MB/s eta 0:00:01\r\u001b[K     |█████████████████████████▋      | 2.8 MB 7.4 MB/s eta 0:00:01\r\u001b[K     |█████████████████████████▊      | 2.8 MB 7.4 MB/s eta 0:00:01\r\u001b[K     |█████████████████████████▉      | 2.8 MB 7.4 MB/s eta 0:00:01\r\u001b[K     |██████████████████████████      | 2.8 MB 7.4 MB/s eta 0:00:01\r\u001b[K     |██████████████████████████      | 2.8 MB 7.4 MB/s eta 0:00:01\r\u001b[K     |██████████████████████████▏     | 2.8 MB 7.4 MB/s eta 0:00:01\r\u001b[K     |██████████████████████████▏     | 2.8 MB 7.4 MB/s eta 0:00:01\r\u001b[K     |██████████████████████████▎     | 2.8 MB 7.4 MB/s eta 0:00:01\r\u001b[K     |██████████████████████████▍     | 2.9 MB 7.4 MB/s eta 0:00:01\r\u001b[K     |██████████████████████████▌     | 2.9 MB 7.4 MB/s eta 0:00:01\r\u001b[K     |██████████████████████████▋     | 2.9 MB 7.4 MB/s eta 0:00:01\r\u001b[K     |██████████████████████████▊     | 2.9 MB 7.4 MB/s eta 0:00:01\r\u001b[K     |██████████████████████████▉     | 2.9 MB 7.4 MB/s eta 0:00:01\r\u001b[K     |██████████████████████████▉     | 2.9 MB 7.4 MB/s eta 0:00:01\r\u001b[K     |███████████████████████████     | 2.9 MB 7.4 MB/s eta 0:00:01\r\u001b[K     |███████████████████████████     | 2.9 MB 7.4 MB/s eta 0:00:01\r\u001b[K     |███████████████████████████▏    | 2.9 MB 7.4 MB/s eta 0:00:01\r\u001b[K     |███████████████████████████▎    | 2.9 MB 7.4 MB/s eta 0:00:01\r\u001b[K     |███████████████████████████▍    | 3.0 MB 7.4 MB/s eta 0:00:01\r\u001b[K     |███████████████████████████▌    | 3.0 MB 7.4 MB/s eta 0:00:01\r\u001b[K     |███████████████████████████▌    | 3.0 MB 7.4 MB/s eta 0:00:01\r\u001b[K     |███████████████████████████▋    | 3.0 MB 7.4 MB/s eta 0:00:01\r\u001b[K     |███████████████████████████▊    | 3.0 MB 7.4 MB/s eta 0:00:01\r\u001b[K     |███████████████████████████▉    | 3.0 MB 7.4 MB/s eta 0:00:01\r\u001b[K     |████████████████████████████    | 3.0 MB 7.4 MB/s eta 0:00:01\r\u001b[K     |████████████████████████████    | 3.0 MB 7.4 MB/s eta 0:00:01\r\u001b[K     |████████████████████████████▏   | 3.0 MB 7.4 MB/s eta 0:00:01\r\u001b[K     |████████████████████████████▏   | 3.1 MB 7.4 MB/s eta 0:00:01\r\u001b[K     |████████████████████████████▎   | 3.1 MB 7.4 MB/s eta 0:00:01\r\u001b[K     |████████████████████████████▍   | 3.1 MB 7.4 MB/s eta 0:00:01\r\u001b[K     |████████████████████████████▌   | 3.1 MB 7.4 MB/s eta 0:00:01\r\u001b[K     |████████████████████████████▋   | 3.1 MB 7.4 MB/s eta 0:00:01\r\u001b[K     |████████████████████████████▊   | 3.1 MB 7.4 MB/s eta 0:00:01\r\u001b[K     |████████████████████████████▊   | 3.1 MB 7.4 MB/s eta 0:00:01\r\u001b[K     |████████████████████████████▉   | 3.1 MB 7.4 MB/s eta 0:00:01\r\u001b[K     |█████████████████████████████   | 3.1 MB 7.4 MB/s eta 0:00:01\r\u001b[K     |█████████████████████████████   | 3.1 MB 7.4 MB/s eta 0:00:01\r\u001b[K     |█████████████████████████████▏  | 3.2 MB 7.4 MB/s eta 0:00:01\r\u001b[K     |█████████████████████████████▎  | 3.2 MB 7.4 MB/s eta 0:00:01\r\u001b[K     |█████████████████████████████▍  | 3.2 MB 7.4 MB/s eta 0:00:01\r\u001b[K     |█████████████████████████████▍  | 3.2 MB 7.4 MB/s eta 0:00:01\r\u001b[K     |█████████████████████████████▌  | 3.2 MB 7.4 MB/s eta 0:00:01\r\u001b[K     |█████████████████████████████▋  | 3.2 MB 7.4 MB/s eta 0:00:01\r\u001b[K     |█████████████████████████████▊  | 3.2 MB 7.4 MB/s eta 0:00:01\r\u001b[K     |█████████████████████████████▉  | 3.2 MB 7.4 MB/s eta 0:00:01\r\u001b[K     |██████████████████████████████  | 3.2 MB 7.4 MB/s eta 0:00:01\r\u001b[K     |██████████████████████████████  | 3.2 MB 7.4 MB/s eta 0:00:01\r\u001b[K     |██████████████████████████████  | 3.3 MB 7.4 MB/s eta 0:00:01\r\u001b[K     |██████████████████████████████▏ | 3.3 MB 7.4 MB/s eta 0:00:01\r\u001b[K     |██████████████████████████████▎ | 3.3 MB 7.4 MB/s eta 0:00:01\r\u001b[K     |██████████████████████████████▍ | 3.3 MB 7.4 MB/s eta 0:00:01\r\u001b[K     |██████████████████████████████▌ | 3.3 MB 7.4 MB/s eta 0:00:01\r\u001b[K     |██████████████████████████████▋ | 3.3 MB 7.4 MB/s eta 0:00:01\r\u001b[K     |██████████████████████████████▊ | 3.3 MB 7.4 MB/s eta 0:00:01\r\u001b[K     |██████████████████████████████▊ | 3.3 MB 7.4 MB/s eta 0:00:01\r\u001b[K     |██████████████████████████████▉ | 3.3 MB 7.4 MB/s eta 0:00:01\r\u001b[K     |███████████████████████████████ | 3.3 MB 7.4 MB/s eta 0:00:01\r\u001b[K     |███████████████████████████████ | 3.4 MB 7.4 MB/s eta 0:00:01\r\u001b[K     |███████████████████████████████▏| 3.4 MB 7.4 MB/s eta 0:00:01\r\u001b[K     |███████████████████████████████▎| 3.4 MB 7.4 MB/s eta 0:00:01\r\u001b[K     |███████████████████████████████▎| 3.4 MB 7.4 MB/s eta 0:00:01\r\u001b[K     |███████████████████████████████▍| 3.4 MB 7.4 MB/s eta 0:00:01\r\u001b[K     |███████████████████████████████▌| 3.4 MB 7.4 MB/s eta 0:00:01\r\u001b[K     |███████████████████████████████▋| 3.4 MB 7.4 MB/s eta 0:00:01\r\u001b[K     |███████████████████████████████▊| 3.4 MB 7.4 MB/s eta 0:00:01\r\u001b[K     |███████████████████████████████▉| 3.4 MB 7.4 MB/s eta 0:00:01\r\u001b[K     |████████████████████████████████| 3.5 MB 7.4 MB/s eta 0:00:01\r\u001b[K     |████████████████████████████████| 3.5 MB 7.4 MB/s eta 0:00:01\r\u001b[K     |████████████████████████████████| 3.5 MB 7.4 MB/s \n",
            "\u001b[?25h"
          ]
        }
      ]
    },
    {
      "cell_type": "markdown",
      "source": [
        "# Атака по малой публичной экспоненте"
      ],
      "metadata": {
        "id": "f0T9flX0vH-t"
      }
    },
    {
      "cell_type": "code",
      "source": [
        "import gmpy2"
      ],
      "metadata": {
        "id": "FAMaorJGPQSd"
      },
      "execution_count": 2,
      "outputs": []
    },
    {
      "cell_type": "code",
      "execution_count": 3,
      "metadata": {
        "id": "ZILUP-uCLvdy"
      },
      "outputs": [],
      "source": [
        "C, N = [], []\n",
        "\n",
        "with open('10.txt', 'r') as f:\n",
        "    text = f.readlines()\n",
        "\n",
        "for line in text:\n",
        "    if line[0] == 'C':\n",
        "        C.append(int(line[5:].replace('\\n', ''), 16))\n",
        "    else:\n",
        "        N.append(int(line[5:].replace('\\n', ''), 16))\n",
        "    \n",
        "data = dict(zip(C, N))"
      ]
    },
    {
      "cell_type": "code",
      "source": [
        "def calc_chinese(data):\n",
        "    M = 1\n",
        "    M_i = []\n",
        "    M_inv = []\n",
        "    for n in data.values():\n",
        "        M *= n\n",
        "    \n",
        "    for n in data.values():\n",
        "        M_i.append(M // n)\n",
        "        M_inv.append(int(gmpy2.gcdext(M // n, n)[1] % n))\n",
        "\n",
        "    X = 0\n",
        "    for i, c in enumerate(data.keys()):\n",
        "        X += c * M_i[i] * M_inv[i]\n",
        "    X %= M\n",
        "    return X"
      ],
      "metadata": {
        "id": "2Vj4VLbYKQsZ"
      },
      "execution_count": 4,
      "outputs": []
    },
    {
      "cell_type": "code",
      "source": [
        "M_e = calc_chinese(data)"
      ],
      "metadata": {
        "id": "VJ8BrKl5KSBa"
      },
      "execution_count": 5,
      "outputs": []
    },
    {
      "cell_type": "code",
      "source": [
        "hex(M_e % N[0])"
      ],
      "metadata": {
        "colab": {
          "base_uri": "https://localhost:8080/",
          "height": 70
        },
        "id": "A7-hcsbOStaE",
        "outputId": "688a2bb8-2343-4540-c219-b8a8fc20a83d"
      },
      "execution_count": 6,
      "outputs": [
        {
          "output_type": "execute_result",
          "data": {
            "application/vnd.google.colaboratory.intrinsic+json": {
              "type": "string"
            },
            "text/plain": [
              "'0x2ed84d90aeba92a2e5a7c62c9a34b41e769132178b746f0415bc1975a8b6387c32a090e629d1af07377e0a55ea81349e27f8da57ef6bd1723294789e07fcede89ebaefae2c929adae7596b3c34c052e0dcc5fa8694c4a7ab73f93872c8f27c2aab4167d1d7291b90a90d6030eda1e82eb95461424a70679e9049e46e3e9e0919'"
            ]
          },
          "metadata": {},
          "execution_count": 6
        }
      ]
    },
    {
      "cell_type": "code",
      "source": [
        "hex(C[0])"
      ],
      "metadata": {
        "colab": {
          "base_uri": "https://localhost:8080/",
          "height": 70
        },
        "id": "PmLis4lUSzlM",
        "outputId": "803ec3cb-0eb6-4623-e19c-f3b3e1bf61c0"
      },
      "execution_count": 7,
      "outputs": [
        {
          "output_type": "execute_result",
          "data": {
            "application/vnd.google.colaboratory.intrinsic+json": {
              "type": "string"
            },
            "text/plain": [
              "'0x2ed84d90aeba92a2e5a7c62c9a34b41e769132178b746f0415bc1975a8b6387c32a090e629d1af07377e0a55ea81349e27f8da57ef6bd1723294789e07fcede89ebaefae2c929adae7596b3c34c052e0dcc5fa8694c4a7ab73f93872c8f27c2aab4167d1d7291b90a90d6030eda1e82eb95461424a70679e9049e46e3e9e0919'"
            ]
          },
          "metadata": {},
          "execution_count": 7
        }
      ]
    },
    {
      "cell_type": "code",
      "source": [
        "def find_root(x_0, n):\n",
        "    eps = 1e-2\n",
        "    x_i = x_0\n",
        "    cnt = 0\n",
        "    while True:\n",
        "        # x_n = x_i - ((x_i ** 5 - n) / (5 * (x_i ** 4)))\n",
        "        x_n = (4 * x_i + (n // (x_i ** 4))) // 5\n",
        "        if abs(x_n - x_i) < eps:\n",
        "            break\n",
        "        x_i = x_n\n",
        "        cnt += 1\n",
        "    print(cnt)\n",
        "    return x_n"
      ],
      "metadata": {
        "id": "iZMDYaXoS3uT"
      },
      "execution_count": 8,
      "outputs": []
    },
    {
      "cell_type": "code",
      "source": [
        "M = find_root(10000, M_e)"
      ],
      "metadata": {
        "colab": {
          "base_uri": "https://localhost:8080/"
        },
        "id": "KhYa1YXiTwo4",
        "outputId": "01d3da63-bfb0-4fe5-8c2f-244e65f7d0f0"
      },
      "execution_count": 9,
      "outputs": [
        {
          "output_type": "stream",
          "name": "stdout",
          "text": [
            "12375\n"
          ]
        }
      ]
    },
    {
      "cell_type": "code",
      "source": [
        "print(f'M = {hex(M)}')"
      ],
      "metadata": {
        "colab": {
          "base_uri": "https://localhost:8080/"
        },
        "id": "MVZwCX-1cWtb",
        "outputId": "4809fa2c-6cb5-4837-edcf-d93e4361ba4e"
      },
      "execution_count": 10,
      "outputs": [
        {
          "output_type": "stream",
          "name": "stdout",
          "text": [
            "M = 0x1ffffffffffffffff006c319af38cdd6cb17f2213133f9fd0bbefdd78f7bb1fda81221668e6be27d8130fafd41238587f4e5201fd18534847a0480450f4107b98dd67a9103265649dde3752d6de9c0fc9d879a32c7cc4b80a7ba770499032b1d6487906b9b27d9da5b262922d36023d9266c1a028cf655fa91e6df4b5204e\n"
          ]
        }
      ]
    },
    {
      "cell_type": "markdown",
      "source": [
        "# Атака встречи посередине"
      ],
      "metadata": {
        "id": "nPXNOpI8vRoX"
      }
    },
    {
      "cell_type": "code",
      "source": [
        "with open('10_mitm.txt', 'r') as f:\n",
        "    text = f.readlines()\n",
        "C = int(text[0][4:].replace('\\n', ''), 16)\n",
        "N = int(text[1][4:].replace('\\n', ''), 16)\n",
        "l = 20 #56 #20 #56\n",
        "e = 65537\n",
        "X = {i : (i ** e) % N for i in range(1, 2 ** (l // 2) + 1)}"
      ],
      "metadata": {
        "id": "tnwkmGk3eW4A"
      },
      "execution_count": 40,
      "outputs": []
    },
    {
      "cell_type": "code",
      "source": [
        "OK = False\n",
        "for i in range(1, 2 ** (l // 2) + 1):\n",
        "    C_s = (C * int(gmpy2.gcdext(X[i], N)[1] % N)) % N\n",
        "    for j in range(1, 2 ** (l // 2) + 1):\n",
        "        if C_s == X[j]:\n",
        "            OK = True\n",
        "            print(f'T_e = {hex(C_s)}')\n",
        "            print(f'S_e = {hex(X[i])}')\n",
        "            print(f'T_e * S_e mod N == C: {((C_s * X[i]) % N) == C}')\n",
        "            print(i)\n",
        "if not OK:\n",
        "    print('Открытый текст не определен')"
      ],
      "metadata": {
        "colab": {
          "base_uri": "https://localhost:8080/"
        },
        "id": "cAqDwFWslT9a",
        "outputId": "a58f72bc-41b8-4aaf-83d7-155725336ae3"
      },
      "execution_count": 41,
      "outputs": [
        {
          "output_type": "stream",
          "name": "stdout",
          "text": [
            "T_e = 0x3c93859a9e812a5b0b7a0077447095212a5c12c31898db8da820be731bb7990a108dd63f6335f4044860bd2b7c78f807d34a685e2aab81fa533fcb13c7c72db5a5f01dbcfb73c2e00cbfdfd7d7d49e10e48cf580483aaada78d2b7082e346e3016adf67463a51ee44b133063d66ce5bc92ea594ea27d69e1fe8713f591bfc5c0a87f019767fa6d47bfb96e3fe0b3db8c947ebf2d201453469a725c8cc59b553a10aae093398d53327277c29bbb6e6e925151b31820df5a7dae4f89d12d1f867aca82353c023b971fd004d02391c05753be450053ff28b8e3f89d9315b2238c1554c3e4d4b30ee777a06d681d2f1187b0f1c19d3729babb391ec58ec4a5308d80\n",
            "S_e = 0xcc01ed5ffdd45fcfee6f6b1d2120e847400a3e5bc80394a0acedd0f6bd57835f03a337d60fb083cb2dfcddab7b6722a296bed1251a54937560ae2fcb58f6fed819da8033188d7a0916bb08135e6fe9a1dfa2dd4634d780a51ef89b8a258be344f8e975d96d6535358e09a436f1b11e7626f52c5eca423ebf123dee584db0332d074680dbb92a589016b3147933a446b778aaacaa58d4761fd915f2e4a955129ed8952e8a5032f219286068463b2a0161ad1f5f944eb68c5a11622e3231907b4ad6b899eaf0d7aa173eb2763be9ed6f704700e7d24b209933e5448e5ae06b62738a10985a641c87b874fd08cd033b24bbc7d5183365f96e81d35d53f7121292a\n",
            "T_e * S_e mod N == C: True\n",
            "807\n",
            "T_e = 0xcc01ed5ffdd45fcfee6f6b1d2120e847400a3e5bc80394a0acedd0f6bd57835f03a337d60fb083cb2dfcddab7b6722a296bed1251a54937560ae2fcb58f6fed819da8033188d7a0916bb08135e6fe9a1dfa2dd4634d780a51ef89b8a258be344f8e975d96d6535358e09a436f1b11e7626f52c5eca423ebf123dee584db0332d074680dbb92a589016b3147933a446b778aaacaa58d4761fd915f2e4a955129ed8952e8a5032f219286068463b2a0161ad1f5f944eb68c5a11622e3231907b4ad6b899eaf0d7aa173eb2763be9ed6f704700e7d24b209933e5448e5ae06b62738a10985a641c87b874fd08cd033b24bbc7d5183365f96e81d35d53f7121292a\n",
            "S_e = 0x3c93859a9e812a5b0b7a0077447095212a5c12c31898db8da820be731bb7990a108dd63f6335f4044860bd2b7c78f807d34a685e2aab81fa533fcb13c7c72db5a5f01dbcfb73c2e00cbfdfd7d7d49e10e48cf580483aaada78d2b7082e346e3016adf67463a51ee44b133063d66ce5bc92ea594ea27d69e1fe8713f591bfc5c0a87f019767fa6d47bfb96e3fe0b3db8c947ebf2d201453469a725c8cc59b553a10aae093398d53327277c29bbb6e6e925151b31820df5a7dae4f89d12d1f867aca82353c023b971fd004d02391c05753be450053ff28b8e3f89d9315b2238c1554c3e4d4b30ee777a06d681d2f1187b0f1c19d3729babb391ec58ec4a5308d80\n",
            "T_e * S_e mod N == C: True\n",
            "949\n"
          ]
        }
      ]
    }
  ]
}